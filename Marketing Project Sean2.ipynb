{
 "cells": [
  {
   "cell_type": "markdown",
   "metadata": {},
   "source": [
    "# Data Preprocesing"
   ]
  },
  {
   "cell_type": "code",
   "execution_count": 3,
   "metadata": {
    "collapsed": false
   },
   "outputs": [
    {
     "name": "stdout",
     "output_type": "stream",
     "text": [
      "Populating the interactive namespace from numpy and matplotlib\n"
     ]
    },
    {
     "name": "stderr",
     "output_type": "stream",
     "text": [
      "WARNING: pylab import has clobbered these variables: ['plt']\n",
      "`%matplotlib` prevents importing * from pylab and numpy\n"
     ]
    }
   ],
   "source": [
    "import pandas as pd\n",
    "import matplotlib as plt\n",
    "from scipy.stats import skew\n",
    "from sklearn.cross_validation import (train_test_split,KFold)\n",
    "from sklearn.metrics import roc_curve, roc_auc_score\n",
    "from sklearn.naive_bayes import GaussianNB\n",
    "from sklearn.discriminant_analysis import LinearDiscriminantAnalysis as LDA\n",
    "from sklearn.discriminant_analysis import QuadraticDiscriminantAnalysis as QDA\n",
    "from sklearn.ensemble import RandomForestClassifier\n",
    "import seaborn\n",
    "%pylab inline"
   ]
  },
  {
   "cell_type": "code",
   "execution_count": 9,
   "metadata": {
    "collapsed": false
   },
   "outputs": [],
   "source": [
    "bank = pd.read_csv(\"data\\\\bank-final.csv\")"
   ]
  },
  {
   "cell_type": "code",
   "execution_count": 10,
   "metadata": {
    "collapsed": false
   },
   "outputs": [],
   "source": [
    "data = pd.read_csv('data\\\\bank-full.csv')\n",
    "\n",
    "\n",
    "#log transform skewed numeric features:\n",
    "numeric_feats = data.dtypes[data.dtypes != \"object\"].index\n",
    "\n",
    "skewed_feats = data[numeric_feats].apply(lambda x: skew(x.dropna())) #compute skewness\n",
    "skewed_feats = skewed_feats[skewed_feats > 0.75]\n",
    "skewed_feats = skewed_feats.index\n",
    "\n",
    "data = pd.get_dummies(data)\n",
    "#get your x's and y's\n",
    "label_name = 'y_yes'\n",
    "y = data[label_name]\n",
    "X = data.drop(label_name,axis=1)\n",
    "label_name = 'y_no'\n",
    "X = X.drop(label_name,axis=1)\n",
    "\n",
    "del data['duration']\n",
    "\n",
    "\n"
   ]
  },
  {
   "cell_type": "code",
   "execution_count": null,
   "metadata": {
    "collapsed": true
   },
   "outputs": [],
   "source": []
  },
  {
   "cell_type": "code",
   "execution_count": 12,
   "metadata": {
    "collapsed": false
   },
   "outputs": [],
   "source": [
    "bank[\"y\"] = bank.apply(lambda row: 1 if row[\"y\"]!=\"no\" else 0,axis=1)"
   ]
  },
  {
   "cell_type": "code",
   "execution_count": 16,
   "metadata": {
    "collapsed": false
   },
   "outputs": [],
   "source": [
    "bank_additional_dummies = pd.get_dummies(bank)"
   ]
  },
  {
   "cell_type": "code",
   "execution_count": null,
   "metadata": {
    "collapsed": true
   },
   "outputs": [],
   "source": []
  },
  {
   "cell_type": "markdown",
   "metadata": {},
   "source": [
    "## Finding Important Features"
   ]
  },
  {
   "cell_type": "code",
   "execution_count": 17,
   "metadata": {
    "collapsed": false
   },
   "outputs": [
    {
     "name": "stderr",
     "output_type": "stream",
     "text": [
      "C:\\Users\\Sean\\AppData\\Local\\Continuum\\Anaconda2\\lib\\site-packages\\sklearn\\utils\\validation.py:515: DataConversionWarning: A column-vector y was passed when a 1d array was expected. Please change the shape of y to (n_samples, ), for example using ravel().\n",
      "  y = column_or_1d(y, warn=True)\n"
     ]
    },
    {
     "ename": "ValueError",
     "evalue": "BinomialDeviance requires 2 classes.",
     "output_type": "error",
     "traceback": [
      "\u001b[1;31m---------------------------------------------------------------------------\u001b[0m",
      "\u001b[1;31mValueError\u001b[0m                                Traceback (most recent call last)",
      "\u001b[1;32m<ipython-input-17-18aacb7c73ee>\u001b[0m in \u001b[0;36m<module>\u001b[1;34m()\u001b[0m\n\u001b[0;32m     12\u001b[0m \u001b[0mgrad\u001b[0m \u001b[1;33m=\u001b[0m \u001b[0mGradientBoostingClassifier\u001b[0m\u001b[1;33m(\u001b[0m\u001b[1;33m)\u001b[0m\u001b[1;33m\u001b[0m\u001b[0m\n\u001b[0;32m     13\u001b[0m \u001b[1;33m\u001b[0m\u001b[0m\n\u001b[1;32m---> 14\u001b[1;33m \u001b[0mgrad\u001b[0m\u001b[1;33m.\u001b[0m\u001b[0mfit\u001b[0m\u001b[1;33m(\u001b[0m\u001b[0mX_train\u001b[0m\u001b[1;33m,\u001b[0m \u001b[0my_train\u001b[0m\u001b[1;33m)\u001b[0m\u001b[1;33m\u001b[0m\u001b[0m\n\u001b[0m\u001b[0;32m     15\u001b[0m \u001b[1;33m\u001b[0m\u001b[0m\n\u001b[0;32m     16\u001b[0m \u001b[0mpred\u001b[0m \u001b[1;33m=\u001b[0m \u001b[0mgrad\u001b[0m\u001b[1;33m.\u001b[0m\u001b[0mpredict\u001b[0m\u001b[1;33m(\u001b[0m\u001b[0mX_test\u001b[0m\u001b[1;33m)\u001b[0m\u001b[1;33m\u001b[0m\u001b[0m\n",
      "\u001b[1;32mC:\\Users\\Sean\\AppData\\Local\\Continuum\\Anaconda2\\lib\\site-packages\\sklearn\\ensemble\\gradient_boosting.pyc\u001b[0m in \u001b[0;36mfit\u001b[1;34m(self, X, y, sample_weight, monitor)\u001b[0m\n\u001b[0;32m    980\u001b[0m \u001b[1;33m\u001b[0m\u001b[0m\n\u001b[0;32m    981\u001b[0m         \u001b[0mrandom_state\u001b[0m \u001b[1;33m=\u001b[0m \u001b[0mcheck_random_state\u001b[0m\u001b[1;33m(\u001b[0m\u001b[0mself\u001b[0m\u001b[1;33m.\u001b[0m\u001b[0mrandom_state\u001b[0m\u001b[1;33m)\u001b[0m\u001b[1;33m\u001b[0m\u001b[0m\n\u001b[1;32m--> 982\u001b[1;33m         \u001b[0mself\u001b[0m\u001b[1;33m.\u001b[0m\u001b[0m_check_params\u001b[0m\u001b[1;33m(\u001b[0m\u001b[1;33m)\u001b[0m\u001b[1;33m\u001b[0m\u001b[0m\n\u001b[0m\u001b[0;32m    983\u001b[0m \u001b[1;33m\u001b[0m\u001b[0m\n\u001b[0;32m    984\u001b[0m         \u001b[1;32mif\u001b[0m \u001b[1;32mnot\u001b[0m \u001b[0mself\u001b[0m\u001b[1;33m.\u001b[0m\u001b[0m_is_initialized\u001b[0m\u001b[1;33m(\u001b[0m\u001b[1;33m)\u001b[0m\u001b[1;33m:\u001b[0m\u001b[1;33m\u001b[0m\u001b[0m\n",
      "\u001b[1;32mC:\\Users\\Sean\\AppData\\Local\\Continuum\\Anaconda2\\lib\\site-packages\\sklearn\\ensemble\\gradient_boosting.pyc\u001b[0m in \u001b[0;36m_check_params\u001b[1;34m(self)\u001b[0m\n\u001b[0;32m    823\u001b[0m             \u001b[0mself\u001b[0m\u001b[1;33m.\u001b[0m\u001b[0mloss_\u001b[0m \u001b[1;33m=\u001b[0m \u001b[0mloss_class\u001b[0m\u001b[1;33m(\u001b[0m\u001b[0mself\u001b[0m\u001b[1;33m.\u001b[0m\u001b[0mn_classes_\u001b[0m\u001b[1;33m,\u001b[0m \u001b[0mself\u001b[0m\u001b[1;33m.\u001b[0m\u001b[0malpha\u001b[0m\u001b[1;33m)\u001b[0m\u001b[1;33m\u001b[0m\u001b[0m\n\u001b[0;32m    824\u001b[0m         \u001b[1;32melse\u001b[0m\u001b[1;33m:\u001b[0m\u001b[1;33m\u001b[0m\u001b[0m\n\u001b[1;32m--> 825\u001b[1;33m             \u001b[0mself\u001b[0m\u001b[1;33m.\u001b[0m\u001b[0mloss_\u001b[0m \u001b[1;33m=\u001b[0m \u001b[0mloss_class\u001b[0m\u001b[1;33m(\u001b[0m\u001b[0mself\u001b[0m\u001b[1;33m.\u001b[0m\u001b[0mn_classes_\u001b[0m\u001b[1;33m)\u001b[0m\u001b[1;33m\u001b[0m\u001b[0m\n\u001b[0m\u001b[0;32m    826\u001b[0m \u001b[1;33m\u001b[0m\u001b[0m\n\u001b[0;32m    827\u001b[0m         \u001b[1;32mif\u001b[0m \u001b[1;32mnot\u001b[0m \u001b[1;33m(\u001b[0m\u001b[1;36m0.0\u001b[0m \u001b[1;33m<\u001b[0m \u001b[0mself\u001b[0m\u001b[1;33m.\u001b[0m\u001b[0msubsample\u001b[0m \u001b[1;33m<=\u001b[0m \u001b[1;36m1.0\u001b[0m\u001b[1;33m)\u001b[0m\u001b[1;33m:\u001b[0m\u001b[1;33m\u001b[0m\u001b[0m\n",
      "\u001b[1;32mC:\\Users\\Sean\\AppData\\Local\\Continuum\\Anaconda2\\lib\\site-packages\\sklearn\\ensemble\\gradient_boosting.pyc\u001b[0m in \u001b[0;36m__init__\u001b[1;34m(self, n_classes)\u001b[0m\n\u001b[0;32m    472\u001b[0m         \u001b[1;32mif\u001b[0m \u001b[0mn_classes\u001b[0m \u001b[1;33m!=\u001b[0m \u001b[1;36m2\u001b[0m\u001b[1;33m:\u001b[0m\u001b[1;33m\u001b[0m\u001b[0m\n\u001b[0;32m    473\u001b[0m             raise ValueError(\"{0:s} requires 2 classes.\".format(\n\u001b[1;32m--> 474\u001b[1;33m                 self.__class__.__name__))\n\u001b[0m\u001b[0;32m    475\u001b[0m         \u001b[1;31m# we only need to fit one tree for binary clf.\u001b[0m\u001b[1;33m\u001b[0m\u001b[1;33m\u001b[0m\u001b[0m\n\u001b[0;32m    476\u001b[0m         \u001b[0msuper\u001b[0m\u001b[1;33m(\u001b[0m\u001b[0mBinomialDeviance\u001b[0m\u001b[1;33m,\u001b[0m \u001b[0mself\u001b[0m\u001b[1;33m)\u001b[0m\u001b[1;33m.\u001b[0m\u001b[0m__init__\u001b[0m\u001b[1;33m(\u001b[0m\u001b[1;36m1\u001b[0m\u001b[1;33m)\u001b[0m\u001b[1;33m\u001b[0m\u001b[0m\n",
      "\u001b[1;31mValueError\u001b[0m: BinomialDeviance requires 2 classes."
     ]
    }
   ],
   "source": [
    "# Scaling the data\n",
    "from sklearn import preprocessing\n",
    "X_mat = bank_additional_dummies.drop([\"y\",\"duration\"],axis=1).as_matrix()\n",
    "X_mat = preprocessing.scale(X_mat)\n",
    "y_mat = bank_additional_dummies[[\"y\"]].as_matrix()\n",
    "#Train-Test Split\n",
    "X_train, X_test, y_train, y_test = train_test_split(X_mat, y_mat, test_size=0.3, random_state=42)\n",
    "\n",
    "#Gradient Boost\n",
    "from sklearn.ensemble import GradientBoostingClassifier\n",
    "\n",
    "grad = GradientBoostingClassifier()\n",
    "\n",
    "grad.fit(X_train, y_train)\n",
    "\n",
    "pred = grad.predict(X_test)\n",
    "\n",
    "feature_imp = grad.feature_importances_\n",
    "\n",
    "fea = pd.DataFrame(feature_imp)\n",
    "\n",
    "fea.columns = [\"Importance\"]\n",
    "\n",
    "fea[\"Feature\"] = bank_additional_dummies.drop([\"y\",\"duration\"],axis=1).columns\n",
    "\n",
    "fea.sort_values(\"Importance\").plot(x=\"Feature\",y=\"Importance\",kind=\"barh\",figsize=(15,8),title=\"Feature Importance\")\n",
    "plt.show()\n",
    "\n",
    "importance_order = fea.sort_values(\"Importance\")[\"Feature\"]\n",
    "\n",
    "from sklearn import linear_model\n",
    "from sklearn import preprocessing\n",
    "\n",
    "reg = linear_model.LogisticRegression()\n",
    "X_train_scale = preprocessing.scale(X_train)\n",
    "reg.fit(X_train_scale,y_train)\n",
    "beta = reg.coef_\n",
    "beta_df = pd.DataFrame(beta)\n",
    "beta_df = beta_df.T\n",
    "beta_df.columns = [\"Betas\"]\n",
    "beta_df[\"Features\"] = bank_additional_dummies.drop([\"y\",\"duration\"],axis=1).columns\n",
    "\n",
    "beta_df.index = beta_df[\"Features\"]\n",
    "beta_df2 = beta_df[[\"Betas\",\"Features\"]].T\n",
    "beta_df2 = beta_df2[importance_order].T\n",
    "beta_df2.plot(x=\"Features\",y=\"Betas\",kind=\"barh\",figsize=(15,8),title=\"Betas\")\n",
    "plt.show()"
   ]
  },
  {
   "cell_type": "code",
   "execution_count": null,
   "metadata": {
    "collapsed": false
   },
   "outputs": [],
   "source": [
    "for i in bank_additional_dummies.columns:\n",
    "    print i"
   ]
  },
  {
   "cell_type": "code",
   "execution_count": null,
   "metadata": {
    "collapsed": true
   },
   "outputs": [],
   "source": []
  },
  {
   "cell_type": "code",
   "execution_count": null,
   "metadata": {
    "collapsed": false
   },
   "outputs": [],
   "source": [
    "X_test_scale = preprocessing.scale(X_test)\n",
    "reg.score(X_test_scale,y_test)"
   ]
  },
  {
   "cell_type": "code",
   "execution_count": null,
   "metadata": {
    "collapsed": true
   },
   "outputs": [],
   "source": [
    "pred_y = reg.predict(X_test_scale)"
   ]
  },
  {
   "cell_type": "code",
   "execution_count": null,
   "metadata": {
    "collapsed": true
   },
   "outputs": [],
   "source": [
    "import sklearn"
   ]
  },
  {
   "cell_type": "code",
   "execution_count": null,
   "metadata": {
    "collapsed": false
   },
   "outputs": [],
   "source": [
    "cm = sklearn.metrics.confusion_matrix(y_test, pred_y)"
   ]
  },
  {
   "cell_type": "code",
   "execution_count": null,
   "metadata": {
    "collapsed": false
   },
   "outputs": [],
   "source": [
    "plt.matshow(cm)\n",
    "plt.title('Confusion matrix')\n",
    "plt.colorbar()\n",
    "plt.ylabel('True label')\n",
    "plt.xlabel('Predicted label')\n",
    "plt.show()"
   ]
  },
  {
   "cell_type": "code",
   "execution_count": null,
   "metadata": {
    "collapsed": true
   },
   "outputs": [],
   "source": [
    "# Scaling the data\n",
    "from sklearn import preprocessing\n",
    "X_mat = bank_additional_dummies.drop([\"y\",\"duration\"],axis=1).as_matrix()\n",
    "X_mat = preprocessing.scale(X_mat)\n",
    "y_mat = bank_additional_dummies[[\"y\"]].as_matrix()\n",
    "#Train-Test Split\n",
    "X_train, X_test, y_train, y_test = train_test_split(X_mat, y_mat, test_size=0.01, random_state=42)\n",
    "\n",
    "#Gradient Boost\n",
    "from sklearn.ensemble import GradientBoostingClassifier\n",
    "\n",
    "grad = GradientBoostingClassifier()\n",
    "\n",
    "grad.fit(X_train, y_train)\n",
    "\n",
    "pred = grad.predict(X_test)\n",
    "\n",
    "feature_imp = grad.feature_importances_\n",
    "\n",
    "fea = pd.DataFrame(feature_imp)\n",
    "\n",
    "fea.columns = [\"Importance\"]\n",
    "\n",
    "fea[\"Feature\"] = bank_additional_dummies.drop([\"y\",\"duration\"],axis=1).columns\n",
    "\n",
    "fea.sort_values(\"Importance\").plot(x=\"Feature\",y=\"Importance\",kind=\"barh\",figsize=(15,8),title=\"Feature Importance\")\n",
    "plt.show()\n",
    "\n",
    "\n",
    "from sklearn import linear_model\n",
    "reg = linear_model.LinearRegression()\n",
    "reg.fit(X_train,y_train)\n",
    "beta = reg.coef_\n",
    "beta_df = pd.DataFrame(beta)\n",
    "beta_df = beta_df.T\n",
    "beta_df.columns = [\"Betas\"]\n",
    "beta_df[\"Features\"] = bank_additional_dummies.drop([\"y\",\"duration\"],axis=1).columns\n",
    "beta_df.sort_values(\"Betas\").plot(x=\"Features\",y=\"Betas\",kind=\"barh\",figsize=(15,8),title=\"Betas\")\n",
    "plt.show()"
   ]
  },
  {
   "cell_type": "markdown",
   "metadata": {},
   "source": [
    "## Exploring discrepencies between betas and feature importances"
   ]
  },
  {
   "cell_type": "markdown",
   "metadata": {},
   "source": [
    "Interesting to note that the \"day\", \"age\",\"balance\",\"campaign\", and \"pdays\" columns have some of the highest importances out of any column for determining outcome, but they have close to a zero beta. For futher data exploration, we will plot their distributions."
   ]
  },
  {
   "cell_type": "code",
   "execution_count": null,
   "metadata": {
    "collapsed": false
   },
   "outputs": [],
   "source": [
    "data_norm.plot(y=\"marital_single\",x=\"y_yes\",kind=\"hist\",title=\"Day vs Frequency of Yes\")"
   ]
  },
  {
   "cell_type": "code",
   "execution_count": null,
   "metadata": {
    "collapsed": false
   },
   "outputs": [],
   "source": [
    "data[[\"day\",\"y_yes\"]].plot(y=\"day\",x=\"y_yes\",kind=\"hist\",title=\"Day vs Frequency of Yes\")"
   ]
  },
  {
   "cell_type": "code",
   "execution_count": null,
   "metadata": {
    "collapsed": false
   },
   "outputs": [],
   "source": [
    "sales_series = data[[\"day\",\"y_yes\"]].groupby([\"day\"])[\"y_yes\"].sum()\n",
    "#sales_series.plot()\n",
    "sales_by_days = pd.DataFrame(sales_series).sort(\"y_yes\")[\"y_yes\"].reset_index()"
   ]
  },
  {
   "cell_type": "code",
   "execution_count": null,
   "metadata": {
    "collapsed": false
   },
   "outputs": [],
   "source": [
    "sales_by_days[\"ln_y_yes\"] = sales_by_days.apply(lambda row: np.log(row[\"y_yes\"]),axis=1)"
   ]
  },
  {
   "cell_type": "code",
   "execution_count": null,
   "metadata": {
    "collapsed": false
   },
   "outputs": [],
   "source": [
    "sales_by_days.plot(x=\"day\",y=\"y_yes\",kind=\"bar\")"
   ]
  },
  {
   "cell_type": "code",
   "execution_count": null,
   "metadata": {
    "collapsed": false
   },
   "outputs": [],
   "source": [
    "day_dummies = pd.get_dummies(data[\"day\"])\n",
    "day_col = []\n",
    "for i in day_dummies:\n",
    "    st = \"day\" + str(i)\n",
    "    day_col.append(st)\n",
    "day_dummies.columns = day_col\n",
    "\n",
    "data2 = pd.concat([data, day_dummies], axis=1, join_axes=[data.index])"
   ]
  },
  {
   "cell_type": "code",
   "execution_count": null,
   "metadata": {
    "collapsed": false
   },
   "outputs": [],
   "source": [
    "data2 = data2.drop(\"day\",axis=1)"
   ]
  },
  {
   "cell_type": "code",
   "execution_count": null,
   "metadata": {
    "collapsed": false
   },
   "outputs": [],
   "source": [
    "data2"
   ]
  },
  {
   "cell_type": "markdown",
   "metadata": {},
   "source": [
    "While it seems that there is a high variability between days of the month and the outcome of the model, it is apparent why the beta would be close to zero due to the non-linear distribution."
   ]
  },
  {
   "cell_type": "code",
   "execution_count": null,
   "metadata": {
    "collapsed": false
   },
   "outputs": [],
   "source": [
    "pdays_df = data[[\"pdays\",\"y_yes\"]]\n",
    "pdays_norm = pdays_df.apply(lambda row: row)\n",
    "data[[\"pdays\",\"y_yes\"]].plot(y=\"pdays\",x=\"y_yes\",kind=\"hist\",title=\"pday vs frequency of Yes\",xlim=(0,600))\n",
    "plt.show()\n",
    "data[\"pdays\"].plot(kind=\"density\",xlim=(-50,600))\n",
    "plt.show()"
   ]
  },
  {
   "cell_type": "markdown",
   "metadata": {},
   "source": [
    "pdays: number of days that passed by after the client was last contacted from a previous campaign (numeric, -1 means client was not previously contacted)"
   ]
  },
  {
   "cell_type": "code",
   "execution_count": null,
   "metadata": {
    "collapsed": false
   },
   "outputs": [],
   "source": [
    "data[[\"age\",\"y_yes\"]].plot(y=\"age\",x=\"y_yes\",kind=\"hist\",title=\"age vs frequency of Yes\")"
   ]
  },
  {
   "cell_type": "code",
   "execution_count": null,
   "metadata": {
    "collapsed": false
   },
   "outputs": [],
   "source": [
    "data.plot(y=\"balance\",x=\"y_yes\",kind=\"hist\",title=\"balance vs frequency of Yes\",xlim=(-10000,80000))\n",
    "plt.show()\n",
    "data[\"balance\"].plot(kind=\"density\",xlim=(-10000,80000))"
   ]
  },
  {
   "cell_type": "code",
   "execution_count": null,
   "metadata": {
    "collapsed": false
   },
   "outputs": [],
   "source": [
    "data.plot(y=\"campaign\",x=\"y_yes\",kind=\"hist\",title=\"campaign vs frequency of Yes\",xlim=(0,20))\n",
    "plt.show()\n",
    "data[\"campaign\"].plot(kind=\"density\",xlim=(0,20))"
   ]
  },
  {
   "cell_type": "markdown",
   "metadata": {},
   "source": [
    "# model creation and running models"
   ]
  },
  {
   "cell_type": "code",
   "execution_count": null,
   "metadata": {
    "collapsed": false
   },
   "outputs": [],
   "source": [
    "#just define our variables to use later\n",
    "NB = GaussianNB()\n",
    "RFC = RandomForestClassifier()\n",
    "LD = LDA(solver='lsqr',shrinkage = 'auto')\n",
    "QD = QDA()\n",
    "Roc = roc_curve\n",
    "Roc_score = roc_auc_score"
   ]
  },
  {
   "cell_type": "code",
   "execution_count": null,
   "metadata": {
    "collapsed": true
   },
   "outputs": [],
   "source": [
    "def BayesianClassifier(modeltype, train_X, train_y, test_X, test_y):\n",
    "    \n",
    "    '''takes bayesian models of Linear/Quadratic Discriminant Analysis, Gaussian Naiive Bayes\n",
    "    and returns the predicted probabilities fpr, tpr, threshold, and roc_auc score for the model with your data\n",
    "    \n",
    "        Note: data must be in an array   '''\n",
    "    pos_probs = []\n",
    "\n",
    "    fitted_model = modeltype.fit(train_X, train_y)\n",
    "    predicted_y = modeltype.predict(test_X)\n",
    "    predicted_probabilities = modeltype.predict_proba(test_X)\n",
    "\n",
    "    for i in predicted_probabilities:\n",
    "        pos_probs.append(i[1])\n",
    "    fpr, tpr, threshold = roc_curve(test_y, pos_probs)\n",
    "    score = roc_auc_score(test_y, pos_probs, average = 'weighted')\n",
    "    return predicted_probabilities, fpr, tpr, threshold, score\n"
   ]
  },
  {
   "cell_type": "code",
   "execution_count": null,
   "metadata": {
    "collapsed": false
   },
   "outputs": [],
   "source": [
    "predicted_probabilities, fpr, tpr, threshold, score = BayesianClassifier(NB, X_train, y_train, X_test, y_test)\n",
    "predicted_probabilities1, fpr1, tpr1, threshold1, score1 = BayesianClassifier(LD, X_train, y_train, X_test, y_test)\n",
    "predicted_probabilities2, fpr2, tpr2, threshold2, score2 = BayesianClassifier(QD, X_train, y_train, X_test, y_test)\n",
    "predicted_probabilities3, fpr3, tpr3, threshold3, score3 = BayesianClassifier(RFC, X_train, y_train, X_test, y_test)"
   ]
  },
  {
   "cell_type": "code",
   "execution_count": null,
   "metadata": {
    "collapsed": false
   },
   "outputs": [],
   "source": [
    "plt.figure()\n",
    "lw = 2\n",
    "plt.plot(fpr, tpr, color='darkorange',\n",
    "         lw=lw, label='Gaussian Naiive Bayes (AUC score = %0.2f)' % score)\n",
    "plt.plot(fpr1, tpr1, color='teal',\n",
    "         lw=lw, label='Linear Discriminant Analysis (LDA) (AUC score = %0.2f)' % score1)\n",
    "plt.plot(fpr2, tpr2, color='blue',\n",
    "         lw=lw, label='Quadratic Discriminant Analysis (QDA) (AUC score = %0.2f)' % score2)\n",
    "plt.plot(fpr2, tpr2, color='yellow', linestyle = '--',\n",
    "         lw=lw, label='Random Forest Classifier (RFC) (AUC score = %0.2f)' % score3)\n",
    "\n",
    "plt.plot([0, 1], [0, 1], color='black', lw=lw, linestyle='--')\n",
    "plt.xlim([0.0, 1.0])\n",
    "plt.ylim([0.0, 1.05])\n",
    "plt.xlabel('False Positive Rate (1-Specificity)', fontsize=15)\n",
    "plt.ylabel('True Positive Rate (Sensitivity)', fontsize = 15)\n",
    "plt.title('Receiver operating characteristic', fontsize = 20)\n",
    "plt.legend(loc=\"best\")\n",
    "plt.show()"
   ]
  },
  {
   "cell_type": "markdown",
   "metadata": {},
   "source": [
    "# ENSEMBLE MODEL"
   ]
  },
  {
   "cell_type": "code",
   "execution_count": null,
   "metadata": {
    "collapsed": false
   },
   "outputs": [],
   "source": [
    "from sklearn.linear_model import LogisticRegression\n",
    "from sklearn.ensemble import (RandomTreesEmbedding, RandomForestClassifier,\n",
    "                              GradientBoostingClassifier)\n",
    "from sklearn.preprocessing import OneHotEncoder\n",
    "from sklearn.metrics import roc_curve\n",
    "from sklearn.pipeline import make_pipeline\n",
    "\n",
    "n_estimator = 10\n",
    "X_train, X_test, y_train, y_test = train_test_split(X, y, test_size=0.3)\n",
    "# It is important to train the ensemble of trees on a different subset\n",
    "# of the training data than the linear regression model to avoid\n",
    "# overfitting, in particular if the total number of leaves is\n",
    "# similar to the number of training samples\n",
    "X_train, X_train_lr, y_train, y_train_lr = train_test_split(X_train,\n",
    "                                                            y_train,\n",
    "                                                            test_size=0.5)\n",
    "\n",
    "# Unsupervised transformation based on totally random trees\n",
    "rt = RandomTreesEmbedding(max_depth=3, n_estimators=n_estimator,\n",
    "    random_state=0)\n",
    "\n",
    "rt_lm = LogisticRegression()\n",
    "pipeline = make_pipeline(rt, rt_lm)\n",
    "pipeline.fit(X_train, y_train)\n",
    "y_pred_rt = pipeline.predict_proba(X_test)[:, 1]\n",
    "fpr_rt_lm, tpr_rt_lm, _ = roc_curve(y_test, y_pred_rt)\n",
    "score_rt_lm = roc_auc_score(y_test, y_pred_rt, average = 'weighted')\n",
    "\n",
    "# Supervised transformation based on random forests\n",
    "rf = RandomForestClassifier(max_depth=3, n_estimators=n_estimator)\n",
    "rf_enc = OneHotEncoder()\n",
    "rf_lm = LogisticRegression()\n",
    "rf.fit(X_train, y_train)\n",
    "rf_enc.fit(rf.apply(X_train))\n",
    "rf_lm.fit(rf_enc.transform(rf.apply(X_train_lr)), y_train_lr)\n",
    "\n",
    "y_pred_rf_lm = rf_lm.predict_proba(rf_enc.transform(rf.apply(X_test)))[:, 1]\n",
    "fpr_rf_lm, tpr_rf_lm, _ = roc_curve(y_test, y_pred_rf_lm)\n",
    "score_rf_lm = roc_auc_score(y_test, y_pred_rf_lm, average = 'weighted')\n",
    "\n",
    "grd = GradientBoostingClassifier(n_estimators=n_estimator)\n",
    "grd_enc = OneHotEncoder()\n",
    "grd_lm = LogisticRegression()\n",
    "grd.fit(X_train, y_train)\n",
    "grd_enc.fit(grd.apply(X_train)[:, :, 0])\n",
    "grd_lm.fit(grd_enc.transform(grd.apply(X_train_lr)[:, :, 0]), y_train_lr)\n",
    "\n",
    "y_pred_grd_lm = grd_lm.predict_proba(\n",
    "    grd_enc.transform(grd.apply(X_test)[:, :, 0]))[:, 1]\n",
    "fpr_grd_lm, tpr_grd_lm, _ = roc_curve(y_test, y_pred_grd_lm)\n",
    "score_grd_lm = roc_auc_score(y_test, y_pred_grd_lm, average = 'weighted')\n",
    "\n",
    "\n",
    "\n",
    "# The gradient boosted model by itself\n",
    "y_pred_grd = grd.predict_proba(X_test)[:, 1]\n",
    "fpr_grd, tpr_grd, _ = roc_curve(y_test, y_pred_grd)\n",
    "score_grd = roc_auc_score(y_test, y_pred_grd, average = 'weighted')\n",
    "\n",
    "\n",
    "# The random forest model by itself\n",
    "y_pred_rf = rf.predict_proba(X_test)[:, 1]\n",
    "fpr_rf, tpr_rf, _ = roc_curve(y_test, y_pred_rf)\n",
    "score_rf = roc_auc_score(y_test, y_pred_rf, average = 'weighted')\n",
    "\n",
    "plt.figure(1)\n",
    "plt.plot([0, 1], [0, 1], 'k--')\n",
    "plt.plot(fpr_rt_lm, tpr_rt_lm, label='RT + LR (AUC score = %0.2f)' % score_rt_lm)\n",
    "plt.plot(fpr_rf, tpr_rf, label='RF (AUC score = %0.2f)' % score_rf)\n",
    "plt.plot(fpr_rf_lm, tpr_rf_lm, label='RF + LR (AUC score = %0.2f)' % score_rf_lm)\n",
    "plt.plot(fpr_grd, tpr_grd, label='GBT (AUC score = %0.2f)' % score_grd)\n",
    "plt.plot(fpr_grd_lm, tpr_grd_lm, label='GBT + LR (AUC score = %0.2f)' % score_grd_lm)\n",
    "plt.xlabel('False positive rate')\n",
    "plt.ylabel('True positive rate')\n",
    "plt.title('ROC curve')\n",
    "plt.legend(loc='best')\n",
    "plt.show()"
   ]
  },
  {
   "cell_type": "code",
   "execution_count": null,
   "metadata": {
    "collapsed": false
   },
   "outputs": [],
   "source": [
    "from pandas_ml import ConfusionMatrix\n",
    "def LogReg(modelwparams, X_train, X_test, y_train, y_test):\n",
    "    \n",
    "    '''You need to pass this function the LogReg model with the parameters you choose,\n",
    "    as well as all your data (train/test X's and Y)\n",
    "    \n",
    "    make sure your X and y's are arrays'''\n",
    "    \n",
    "    LOG = modelwparams\n",
    "    logit_fit_model = LOG.fit(X_train, y_train)\n",
    "    pred_y = logit_fit_model.predict(X_test)\n",
    "    \n",
    "    cm = ConfusionMatrix(y_test, pred_y)\n",
    "    print cm\n",
    "    cm.plot()\n",
    "    plt.show()\n",
    "    cm.print_stats()\n",
    "    \n",
    "LD = LDA(solver='lsqr',shrinkage = 'auto')\n",
    "LogReg(LD, X_train, X_test, y_train, y_test)"
   ]
  },
  {
   "cell_type": "code",
   "execution_count": null,
   "metadata": {
    "collapsed": true
   },
   "outputs": [],
   "source": []
  }
 ],
 "metadata": {
  "anaconda-cloud": {},
  "kernelspec": {
   "display_name": "Python 2",
   "language": "python",
   "name": "python2"
  },
  "language_info": {
   "codemirror_mode": {
    "name": "ipython",
    "version": 2
   },
   "file_extension": ".py",
   "mimetype": "text/x-python",
   "name": "python",
   "nbconvert_exporter": "python",
   "pygments_lexer": "ipython2",
   "version": "2.7.12"
  }
 },
 "nbformat": 4,
 "nbformat_minor": 0
}
