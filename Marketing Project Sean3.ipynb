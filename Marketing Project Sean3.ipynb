{
 "cells": [
  {
   "cell_type": "code",
   "execution_count": 7,
   "metadata": {
    "collapsed": false
   },
   "outputs": [
    {
     "name": "stdout",
     "output_type": "stream",
     "text": [
      "Populating the interactive namespace from numpy and matplotlib\n"
     ]
    },
    {
     "name": "stderr",
     "output_type": "stream",
     "text": [
      "WARNING: pylab import has clobbered these variables: ['beta']\n",
      "`%matplotlib` prevents importing * from pylab and numpy\n"
     ]
    }
   ],
   "source": [
    "import pandas as pd\n",
    "import matplotlib.pyplot as plt\n",
    "from sklearn import linear_model\n",
    "from sklearn import preprocessing\n",
    "import numpy as np\n",
    "import warnings\n",
    "warnings.filterwarnings('ignore')\n",
    "%pylab inline"
   ]
  },
  {
   "cell_type": "code",
   "execution_count": 8,
   "metadata": {
    "collapsed": false
   },
   "outputs": [],
   "source": [
    "data = pd.read_csv(\"data\\\\bank-full.csv\")"
   ]
  },
  {
   "cell_type": "code",
   "execution_count": 9,
   "metadata": {
    "collapsed": false
   },
   "outputs": [],
   "source": [
    "data_dummies = pd.get_dummies(data)"
   ]
  },
  {
   "cell_type": "code",
   "execution_count": 10,
   "metadata": {
    "collapsed": false
   },
   "outputs": [],
   "source": [
    "data_dummies = data_dummies.drop([\"y_no\",\"duration\",\"housing_no\"],axis=1)"
   ]
  },
  {
   "cell_type": "code",
   "execution_count": 11,
   "metadata": {
    "collapsed": false
   },
   "outputs": [],
   "source": [
    "high_cov = {}\n",
    "already_done = []\n",
    "for first_col in data_dummies:\n",
    "    already_done.append(first_col)\n",
    "    for second_col in data_dummies:\n",
    "        if second_col not in already_done:\n",
    "            X = data_dummies[[first_col]].as_matrix()\n",
    "            Y = data_dummies[[second_col]].as_matrix()\n",
    "            X = preprocessing.scale(X)\n",
    "            Y = preprocessing.scale(Y)\n",
    "            reg = linear_model.LinearRegression()\n",
    "            reg.fit(X,Y)\n",
    "            beta = reg.coef_\n",
    "            sec1 = second_col.split(\"_\")[0]\n",
    "            first1 = first_col.split(\"_\")[0]\n",
    "            if (np.abs(beta[0][0]) > 0.3) and (sec1 != first1) and first_col != \"y_yes\" and second_col != \"y_yes\":\n",
    "                st = str(first_col) + \"_vs_\" + str(second_col)\n",
    "                high_cov[st]=beta\n",
    "                "
   ]
  },
  {
   "cell_type": "code",
   "execution_count": 12,
   "metadata": {
    "collapsed": false
   },
   "outputs": [],
   "source": [
    "key_list = []\n",
    "cov_list = []\n",
    "for key in high_cov:\n",
    "    key_list.append(key)\n",
    "    cov_list.append(high_cov[key][0][0])"
   ]
  },
  {
   "cell_type": "code",
   "execution_count": 13,
   "metadata": {
    "collapsed": false
   },
   "outputs": [],
   "source": [
    "cov_df = pd.DataFrame()"
   ]
  },
  {
   "cell_type": "code",
   "execution_count": 14,
   "metadata": {
    "collapsed": true
   },
   "outputs": [],
   "source": [
    "cov_df[\"correlation\"]=key_list\n",
    "cov_df[\"beta\"]=cov_list"
   ]
  },
  {
   "cell_type": "code",
   "execution_count": 15,
   "metadata": {
    "collapsed": false
   },
   "outputs": [
    {
     "data": {
      "text/html": [
       "<div>\n",
       "<table border=\"1\" class=\"dataframe\">\n",
       "  <thead>\n",
       "    <tr style=\"text-align: right;\">\n",
       "      <th></th>\n",
       "      <th>correlation</th>\n",
       "      <th>beta</th>\n",
       "    </tr>\n",
       "  </thead>\n",
       "  <tbody>\n",
       "    <tr>\n",
       "      <th>0</th>\n",
       "      <td>job_blue-collar_vs_education_primary</td>\n",
       "      <td>0.342688</td>\n",
       "    </tr>\n",
       "    <tr>\n",
       "      <th>1</th>\n",
       "      <td>previous_vs_poutcome_failure</td>\n",
       "      <td>0.350627</td>\n",
       "    </tr>\n",
       "    <tr>\n",
       "      <th>2</th>\n",
       "      <td>contact_unknown_vs_month_may</td>\n",
       "      <td>0.425700</td>\n",
       "    </tr>\n",
       "    <tr>\n",
       "      <th>3</th>\n",
       "      <td>previous_vs_poutcome_other</td>\n",
       "      <td>0.306615</td>\n",
       "    </tr>\n",
       "    <tr>\n",
       "      <th>4</th>\n",
       "      <td>pdays_vs_poutcome_other</td>\n",
       "      <td>0.389791</td>\n",
       "    </tr>\n",
       "    <tr>\n",
       "      <th>5</th>\n",
       "      <td>housing_yes_vs_month_aug</td>\n",
       "      <td>-0.305641</td>\n",
       "    </tr>\n",
       "    <tr>\n",
       "      <th>6</th>\n",
       "      <td>contact_unknown_vs_month_jun</td>\n",
       "      <td>0.453077</td>\n",
       "    </tr>\n",
       "    <tr>\n",
       "      <th>7</th>\n",
       "      <td>previous_vs_poutcome_unknown</td>\n",
       "      <td>-0.532763</td>\n",
       "    </tr>\n",
       "    <tr>\n",
       "      <th>8</th>\n",
       "      <td>job_blue-collar_vs_education_tertiary</td>\n",
       "      <td>-0.320541</td>\n",
       "    </tr>\n",
       "    <tr>\n",
       "      <th>9</th>\n",
       "      <td>age_vs_job_retired</td>\n",
       "      <td>0.447378</td>\n",
       "    </tr>\n",
       "    <tr>\n",
       "      <th>10</th>\n",
       "      <td>pdays_vs_poutcome_unknown</td>\n",
       "      <td>-0.869962</td>\n",
       "    </tr>\n",
       "    <tr>\n",
       "      <th>11</th>\n",
       "      <td>housing_yes_vs_month_may</td>\n",
       "      <td>0.427980</td>\n",
       "    </tr>\n",
       "    <tr>\n",
       "      <th>12</th>\n",
       "      <td>job_management_vs_education_secondary</td>\n",
       "      <td>-0.406124</td>\n",
       "    </tr>\n",
       "    <tr>\n",
       "      <th>13</th>\n",
       "      <td>age_vs_marital_single</td>\n",
       "      <td>-0.427817</td>\n",
       "    </tr>\n",
       "    <tr>\n",
       "      <th>14</th>\n",
       "      <td>pdays_vs_poutcome_failure</td>\n",
       "      <td>0.701052</td>\n",
       "    </tr>\n",
       "    <tr>\n",
       "      <th>15</th>\n",
       "      <td>contact_cellular_vs_month_jun</td>\n",
       "      <td>-0.391732</td>\n",
       "    </tr>\n",
       "    <tr>\n",
       "      <th>16</th>\n",
       "      <td>job_management_vs_education_tertiary</td>\n",
       "      <td>0.598900</td>\n",
       "    </tr>\n",
       "    <tr>\n",
       "      <th>17</th>\n",
       "      <td>pdays_vs_previous</td>\n",
       "      <td>0.454820</td>\n",
       "    </tr>\n",
       "    <tr>\n",
       "      <th>18</th>\n",
       "      <td>contact_cellular_vs_month_may</td>\n",
       "      <td>-0.360806</td>\n",
       "    </tr>\n",
       "  </tbody>\n",
       "</table>\n",
       "</div>"
      ],
      "text/plain": [
       "                              correlation      beta\n",
       "0    job_blue-collar_vs_education_primary  0.342688\n",
       "1            previous_vs_poutcome_failure  0.350627\n",
       "2            contact_unknown_vs_month_may  0.425700\n",
       "3              previous_vs_poutcome_other  0.306615\n",
       "4                 pdays_vs_poutcome_other  0.389791\n",
       "5                housing_yes_vs_month_aug -0.305641\n",
       "6            contact_unknown_vs_month_jun  0.453077\n",
       "7            previous_vs_poutcome_unknown -0.532763\n",
       "8   job_blue-collar_vs_education_tertiary -0.320541\n",
       "9                      age_vs_job_retired  0.447378\n",
       "10              pdays_vs_poutcome_unknown -0.869962\n",
       "11               housing_yes_vs_month_may  0.427980\n",
       "12  job_management_vs_education_secondary -0.406124\n",
       "13                  age_vs_marital_single -0.427817\n",
       "14              pdays_vs_poutcome_failure  0.701052\n",
       "15          contact_cellular_vs_month_jun -0.391732\n",
       "16   job_management_vs_education_tertiary  0.598900\n",
       "17                      pdays_vs_previous  0.454820\n",
       "18          contact_cellular_vs_month_may -0.360806"
      ]
     },
     "execution_count": 15,
     "metadata": {},
     "output_type": "execute_result"
    }
   ],
   "source": [
    "cov_df"
   ]
  },
  {
   "cell_type": "code",
   "execution_count": 16,
   "metadata": {
    "collapsed": false
   },
   "outputs": [],
   "source": [
    "key_list2 = []\n",
    "for i in key_list:\n",
    "    key_list2 = key_list2 + i.split(\"_vs_\")"
   ]
  },
  {
   "cell_type": "code",
   "execution_count": 17,
   "metadata": {
    "collapsed": false
   },
   "outputs": [],
   "source": [
    "correlation_with_y = {}\n",
    "cor_w_y_arr = []\n",
    "cols = []\n",
    "Y = data_dummies[[\"y_yes\"]].as_matrix()\n",
    "for col in key_list2:\n",
    "    cols.append(col)\n",
    "    X = data_dummies[[col]].as_matrix()\n",
    "    X = preprocessing.scale(X)\n",
    "    reg = linear_model.LinearRegression()\n",
    "    reg.fit(X,Y)\n",
    "    beta = reg.coef_\n",
    "    cor_w_y_arr.append(beta[0][0])\n",
    "    correlation_with_y[col] = beta[0][0]"
   ]
  },
  {
   "cell_type": "code",
   "execution_count": 18,
   "metadata": {
    "collapsed": false
   },
   "outputs": [],
   "source": [
    "cov_dfY = pd.DataFrame()\n",
    "cov_dfY[\"Variables\"] = cols\n",
    "cov_dfY[\"WithY\"]=cor_w_y_arr"
   ]
  },
  {
   "cell_type": "code",
   "execution_count": 19,
   "metadata": {
    "collapsed": false
   },
   "outputs": [
    {
     "data": {
      "text/html": [
       "<div>\n",
       "<table border=\"1\" class=\"dataframe\">\n",
       "  <thead>\n",
       "    <tr style=\"text-align: right;\">\n",
       "      <th></th>\n",
       "      <th>Variables</th>\n",
       "      <th>WithY</th>\n",
       "    </tr>\n",
       "  </thead>\n",
       "  <tbody>\n",
       "    <tr>\n",
       "      <th>0</th>\n",
       "      <td>job_blue-collar</td>\n",
       "      <td>-0.023168</td>\n",
       "    </tr>\n",
       "    <tr>\n",
       "      <th>1</th>\n",
       "      <td>education_primary</td>\n",
       "      <td>-0.012983</td>\n",
       "    </tr>\n",
       "    <tr>\n",
       "      <th>2</th>\n",
       "      <td>previous</td>\n",
       "      <td>0.029966</td>\n",
       "    </tr>\n",
       "    <tr>\n",
       "      <th>3</th>\n",
       "      <td>poutcome_failure</td>\n",
       "      <td>0.003177</td>\n",
       "    </tr>\n",
       "    <tr>\n",
       "      <th>4</th>\n",
       "      <td>contact_unknown</td>\n",
       "      <td>-0.048511</td>\n",
       "    </tr>\n",
       "    <tr>\n",
       "      <th>5</th>\n",
       "      <td>month_may</td>\n",
       "      <td>-0.032944</td>\n",
       "    </tr>\n",
       "    <tr>\n",
       "      <th>6</th>\n",
       "      <td>previous</td>\n",
       "      <td>0.029966</td>\n",
       "    </tr>\n",
       "    <tr>\n",
       "      <th>7</th>\n",
       "      <td>poutcome_other</td>\n",
       "      <td>0.010270</td>\n",
       "    </tr>\n",
       "    <tr>\n",
       "      <th>8</th>\n",
       "      <td>pdays</td>\n",
       "      <td>0.033304</td>\n",
       "    </tr>\n",
       "    <tr>\n",
       "      <th>9</th>\n",
       "      <td>poutcome_other</td>\n",
       "      <td>0.010270</td>\n",
       "    </tr>\n",
       "    <tr>\n",
       "      <th>10</th>\n",
       "      <td>housing_yes</td>\n",
       "      <td>-0.044730</td>\n",
       "    </tr>\n",
       "    <tr>\n",
       "      <th>11</th>\n",
       "      <td>month_aug</td>\n",
       "      <td>-0.002744</td>\n",
       "    </tr>\n",
       "    <tr>\n",
       "      <th>12</th>\n",
       "      <td>contact_unknown</td>\n",
       "      <td>-0.048511</td>\n",
       "    </tr>\n",
       "    <tr>\n",
       "      <th>13</th>\n",
       "      <td>month_jun</td>\n",
       "      <td>-0.005401</td>\n",
       "    </tr>\n",
       "    <tr>\n",
       "      <th>14</th>\n",
       "      <td>previous</td>\n",
       "      <td>0.029966</td>\n",
       "    </tr>\n",
       "    <tr>\n",
       "      <th>15</th>\n",
       "      <td>poutcome_unknown</td>\n",
       "      <td>-0.053690</td>\n",
       "    </tr>\n",
       "    <tr>\n",
       "      <th>16</th>\n",
       "      <td>job_blue-collar</td>\n",
       "      <td>-0.023168</td>\n",
       "    </tr>\n",
       "    <tr>\n",
       "      <th>17</th>\n",
       "      <td>education_tertiary</td>\n",
       "      <td>0.021357</td>\n",
       "    </tr>\n",
       "    <tr>\n",
       "      <th>18</th>\n",
       "      <td>age</td>\n",
       "      <td>0.008085</td>\n",
       "    </tr>\n",
       "    <tr>\n",
       "      <th>19</th>\n",
       "      <td>job_retired</td>\n",
       "      <td>0.025470</td>\n",
       "    </tr>\n",
       "    <tr>\n",
       "      <th>20</th>\n",
       "      <td>pdays</td>\n",
       "      <td>0.033304</td>\n",
       "    </tr>\n",
       "    <tr>\n",
       "      <th>21</th>\n",
       "      <td>poutcome_unknown</td>\n",
       "      <td>-0.053690</td>\n",
       "    </tr>\n",
       "    <tr>\n",
       "      <th>22</th>\n",
       "      <td>housing_yes</td>\n",
       "      <td>-0.044730</td>\n",
       "    </tr>\n",
       "    <tr>\n",
       "      <th>23</th>\n",
       "      <td>month_may</td>\n",
       "      <td>-0.032944</td>\n",
       "    </tr>\n",
       "    <tr>\n",
       "      <th>24</th>\n",
       "      <td>job_management</td>\n",
       "      <td>0.010580</td>\n",
       "    </tr>\n",
       "    <tr>\n",
       "      <th>25</th>\n",
       "      <td>education_secondary</td>\n",
       "      <td>-0.011695</td>\n",
       "    </tr>\n",
       "    <tr>\n",
       "      <th>26</th>\n",
       "      <td>age</td>\n",
       "      <td>0.008085</td>\n",
       "    </tr>\n",
       "    <tr>\n",
       "      <th>27</th>\n",
       "      <td>marital_single</td>\n",
       "      <td>0.020417</td>\n",
       "    </tr>\n",
       "    <tr>\n",
       "      <th>28</th>\n",
       "      <td>pdays</td>\n",
       "      <td>0.033304</td>\n",
       "    </tr>\n",
       "    <tr>\n",
       "      <th>29</th>\n",
       "      <td>poutcome_failure</td>\n",
       "      <td>0.003177</td>\n",
       "    </tr>\n",
       "    <tr>\n",
       "      <th>30</th>\n",
       "      <td>contact_cellular</td>\n",
       "      <td>0.043670</td>\n",
       "    </tr>\n",
       "    <tr>\n",
       "      <th>31</th>\n",
       "      <td>month_jun</td>\n",
       "      <td>-0.005401</td>\n",
       "    </tr>\n",
       "    <tr>\n",
       "      <th>32</th>\n",
       "      <td>job_management</td>\n",
       "      <td>0.010580</td>\n",
       "    </tr>\n",
       "    <tr>\n",
       "      <th>33</th>\n",
       "      <td>education_tertiary</td>\n",
       "      <td>0.021357</td>\n",
       "    </tr>\n",
       "    <tr>\n",
       "      <th>34</th>\n",
       "      <td>pdays</td>\n",
       "      <td>0.033304</td>\n",
       "    </tr>\n",
       "    <tr>\n",
       "      <th>35</th>\n",
       "      <td>previous</td>\n",
       "      <td>0.029966</td>\n",
       "    </tr>\n",
       "    <tr>\n",
       "      <th>36</th>\n",
       "      <td>contact_cellular</td>\n",
       "      <td>0.043670</td>\n",
       "    </tr>\n",
       "    <tr>\n",
       "      <th>37</th>\n",
       "      <td>month_may</td>\n",
       "      <td>-0.032944</td>\n",
       "    </tr>\n",
       "  </tbody>\n",
       "</table>\n",
       "</div>"
      ],
      "text/plain": [
       "              Variables     WithY\n",
       "0       job_blue-collar -0.023168\n",
       "1     education_primary -0.012983\n",
       "2              previous  0.029966\n",
       "3      poutcome_failure  0.003177\n",
       "4       contact_unknown -0.048511\n",
       "5             month_may -0.032944\n",
       "6              previous  0.029966\n",
       "7        poutcome_other  0.010270\n",
       "8                 pdays  0.033304\n",
       "9        poutcome_other  0.010270\n",
       "10          housing_yes -0.044730\n",
       "11            month_aug -0.002744\n",
       "12      contact_unknown -0.048511\n",
       "13            month_jun -0.005401\n",
       "14             previous  0.029966\n",
       "15     poutcome_unknown -0.053690\n",
       "16      job_blue-collar -0.023168\n",
       "17   education_tertiary  0.021357\n",
       "18                  age  0.008085\n",
       "19          job_retired  0.025470\n",
       "20                pdays  0.033304\n",
       "21     poutcome_unknown -0.053690\n",
       "22          housing_yes -0.044730\n",
       "23            month_may -0.032944\n",
       "24       job_management  0.010580\n",
       "25  education_secondary -0.011695\n",
       "26                  age  0.008085\n",
       "27       marital_single  0.020417\n",
       "28                pdays  0.033304\n",
       "29     poutcome_failure  0.003177\n",
       "30     contact_cellular  0.043670\n",
       "31            month_jun -0.005401\n",
       "32       job_management  0.010580\n",
       "33   education_tertiary  0.021357\n",
       "34                pdays  0.033304\n",
       "35             previous  0.029966\n",
       "36     contact_cellular  0.043670\n",
       "37            month_may -0.032944"
      ]
     },
     "execution_count": 19,
     "metadata": {},
     "output_type": "execute_result"
    }
   ],
   "source": [
    "cov_dfY"
   ]
  },
  {
   "cell_type": "code",
   "execution_count": 20,
   "metadata": {
    "collapsed": false
   },
   "outputs": [
    {
     "ename": "NameError",
     "evalue": "name 'li' is not defined",
     "output_type": "error",
     "traceback": [
      "\u001b[1;31m---------------------------------------------------------------------------\u001b[0m",
      "\u001b[1;31mNameError\u001b[0m                                 Traceback (most recent call last)",
      "\u001b[1;32m<ipython-input-20-110c90186bb9>\u001b[0m in \u001b[0;36m<module>\u001b[1;34m()\u001b[0m\n\u001b[1;32m----> 1\u001b[1;33m \u001b[0mcov_dfY\u001b[0m\u001b[1;33m.\u001b[0m\u001b[0mT\u001b[0m\u001b[1;33m[\u001b[0m\u001b[0mli\u001b[0m\u001b[1;33m]\u001b[0m\u001b[1;33m.\u001b[0m\u001b[0mT\u001b[0m\u001b[1;33m[\u001b[0m\u001b[1;34m\"Variables\"\u001b[0m\u001b[1;33m]\u001b[0m\u001b[1;33m\u001b[0m\u001b[0m\n\u001b[0m",
      "\u001b[1;31mNameError\u001b[0m: name 'li' is not defined"
     ]
    }
   ],
   "source": [
    "cov_dfY.T[li].T[\"Variables\"]"
   ]
  },
  {
   "cell_type": "code",
   "execution_count": 22,
   "metadata": {
    "collapsed": false
   },
   "outputs": [],
   "source": [
    "cov_dfY[\"WithY\"].as_matrix()\n",
    "lag_list = [0]\n",
    "for i in cov_dfY[\"WithY\"].as_matrix():\n",
    "    lag_list.append(i)\n",
    "greater_df = pd.DataFrame()\n",
    "greater_df[\"unlagged\"] = cov_dfY[\"WithY\"]\n",
    "greater_df[\"unlagged\"] = greater_df.apply(lambda row: np.abs(row[\"unlagged\"]),axis=1)\n",
    "greater_df[\"lagged\"] = pd.Series(lag_list)[:-1]\n",
    "greater_df[\"lagged\"] = greater_df.apply(lambda row: np.abs(row[\"lagged\"]),axis=1)\n",
    "    \n",
    "    "
   ]
  },
  {
   "cell_type": "code",
   "execution_count": 23,
   "metadata": {
    "collapsed": false
   },
   "outputs": [],
   "source": [
    "greater_df[\"difference\"]=greater_df.apply(lambda row: row[\"unlagged\"]-row[\"lagged\"],axis=1)"
   ]
  },
  {
   "cell_type": "code",
   "execution_count": 24,
   "metadata": {
    "collapsed": false
   },
   "outputs": [],
   "source": [
    "li = [i*2 for i in range(len(greater_df)/2)]"
   ]
  },
  {
   "cell_type": "code",
   "execution_count": 25,
   "metadata": {
    "collapsed": false
   },
   "outputs": [],
   "source": [
    "transformed = greater_df.T"
   ]
  },
  {
   "cell_type": "code",
   "execution_count": 26,
   "metadata": {
    "collapsed": false
   },
   "outputs": [],
   "source": [
    "variable_rel_imp = transformed[li].T"
   ]
  },
  {
   "cell_type": "code",
   "execution_count": 27,
   "metadata": {
    "collapsed": false
   },
   "outputs": [
    {
     "data": {
      "text/plain": [
       "0      job_blue-collar\n",
       "2             previous\n",
       "4      contact_unknown\n",
       "6             previous\n",
       "8                pdays\n",
       "10         housing_yes\n",
       "12     contact_unknown\n",
       "14            previous\n",
       "16     job_blue-collar\n",
       "18                 age\n",
       "20               pdays\n",
       "22         housing_yes\n",
       "24      job_management\n",
       "26                 age\n",
       "28               pdays\n",
       "30    contact_cellular\n",
       "32      job_management\n",
       "34               pdays\n",
       "36    contact_cellular\n",
       "Name: Variables, dtype: object"
      ]
     },
     "execution_count": 27,
     "metadata": {},
     "output_type": "execute_result"
    }
   ],
   "source": [
    "cov_dfY.T[li].T[\"Variables\"]"
   ]
  },
  {
   "cell_type": "code",
   "execution_count": 35,
   "metadata": {
    "collapsed": false
   },
   "outputs": [],
   "source": [
    "variable_rel_imp[\"var\"]=cov_dfY.T[li].T[\"Variables\"]"
   ]
  },
  {
   "cell_type": "code",
   "execution_count": 36,
   "metadata": {
    "collapsed": false
   },
   "outputs": [],
   "source": [
    "variable_rel_imp[\"choose\"] = variable_rel_imp.apply(lambda row: 1 if row[\"difference\"]>0 else 0,axis=1)"
   ]
  },
  {
   "cell_type": "code",
   "execution_count": 37,
   "metadata": {
    "collapsed": false
   },
   "outputs": [
    {
     "data": {
      "text/html": [
       "<div>\n",
       "<table border=\"1\" class=\"dataframe\">\n",
       "  <thead>\n",
       "    <tr style=\"text-align: right;\">\n",
       "      <th></th>\n",
       "      <th>unlagged</th>\n",
       "      <th>lagged</th>\n",
       "      <th>difference</th>\n",
       "      <th>choose</th>\n",
       "      <th>var</th>\n",
       "    </tr>\n",
       "  </thead>\n",
       "  <tbody>\n",
       "    <tr>\n",
       "      <th>0</th>\n",
       "      <td>0.023168</td>\n",
       "      <td>0.000000</td>\n",
       "      <td>0.023168</td>\n",
       "      <td>1</td>\n",
       "      <td>job_blue-collar</td>\n",
       "    </tr>\n",
       "    <tr>\n",
       "      <th>2</th>\n",
       "      <td>0.029966</td>\n",
       "      <td>0.012983</td>\n",
       "      <td>0.016984</td>\n",
       "      <td>1</td>\n",
       "      <td>previous</td>\n",
       "    </tr>\n",
       "    <tr>\n",
       "      <th>4</th>\n",
       "      <td>0.048511</td>\n",
       "      <td>0.003177</td>\n",
       "      <td>0.045334</td>\n",
       "      <td>1</td>\n",
       "      <td>contact_unknown</td>\n",
       "    </tr>\n",
       "    <tr>\n",
       "      <th>6</th>\n",
       "      <td>0.029966</td>\n",
       "      <td>0.032944</td>\n",
       "      <td>-0.002978</td>\n",
       "      <td>0</td>\n",
       "      <td>previous</td>\n",
       "    </tr>\n",
       "    <tr>\n",
       "      <th>8</th>\n",
       "      <td>0.033304</td>\n",
       "      <td>0.010270</td>\n",
       "      <td>0.023034</td>\n",
       "      <td>1</td>\n",
       "      <td>pdays</td>\n",
       "    </tr>\n",
       "    <tr>\n",
       "      <th>10</th>\n",
       "      <td>0.044730</td>\n",
       "      <td>0.010270</td>\n",
       "      <td>0.034460</td>\n",
       "      <td>1</td>\n",
       "      <td>housing_yes</td>\n",
       "    </tr>\n",
       "    <tr>\n",
       "      <th>12</th>\n",
       "      <td>0.048511</td>\n",
       "      <td>0.002744</td>\n",
       "      <td>0.045767</td>\n",
       "      <td>1</td>\n",
       "      <td>contact_unknown</td>\n",
       "    </tr>\n",
       "    <tr>\n",
       "      <th>14</th>\n",
       "      <td>0.029966</td>\n",
       "      <td>0.005401</td>\n",
       "      <td>0.024565</td>\n",
       "      <td>1</td>\n",
       "      <td>previous</td>\n",
       "    </tr>\n",
       "    <tr>\n",
       "      <th>16</th>\n",
       "      <td>0.023168</td>\n",
       "      <td>0.053690</td>\n",
       "      <td>-0.030523</td>\n",
       "      <td>0</td>\n",
       "      <td>job_blue-collar</td>\n",
       "    </tr>\n",
       "    <tr>\n",
       "      <th>18</th>\n",
       "      <td>0.008085</td>\n",
       "      <td>0.021357</td>\n",
       "      <td>-0.013272</td>\n",
       "      <td>0</td>\n",
       "      <td>age</td>\n",
       "    </tr>\n",
       "    <tr>\n",
       "      <th>20</th>\n",
       "      <td>0.033304</td>\n",
       "      <td>0.025470</td>\n",
       "      <td>0.007835</td>\n",
       "      <td>1</td>\n",
       "      <td>pdays</td>\n",
       "    </tr>\n",
       "    <tr>\n",
       "      <th>22</th>\n",
       "      <td>0.044730</td>\n",
       "      <td>0.053690</td>\n",
       "      <td>-0.008960</td>\n",
       "      <td>0</td>\n",
       "      <td>housing_yes</td>\n",
       "    </tr>\n",
       "    <tr>\n",
       "      <th>24</th>\n",
       "      <td>0.010580</td>\n",
       "      <td>0.032944</td>\n",
       "      <td>-0.022364</td>\n",
       "      <td>0</td>\n",
       "      <td>job_management</td>\n",
       "    </tr>\n",
       "    <tr>\n",
       "      <th>26</th>\n",
       "      <td>0.008085</td>\n",
       "      <td>0.011695</td>\n",
       "      <td>-0.003610</td>\n",
       "      <td>0</td>\n",
       "      <td>age</td>\n",
       "    </tr>\n",
       "    <tr>\n",
       "      <th>28</th>\n",
       "      <td>0.033304</td>\n",
       "      <td>0.020417</td>\n",
       "      <td>0.012887</td>\n",
       "      <td>1</td>\n",
       "      <td>pdays</td>\n",
       "    </tr>\n",
       "    <tr>\n",
       "      <th>30</th>\n",
       "      <td>0.043670</td>\n",
       "      <td>0.003177</td>\n",
       "      <td>0.040493</td>\n",
       "      <td>1</td>\n",
       "      <td>contact_cellular</td>\n",
       "    </tr>\n",
       "    <tr>\n",
       "      <th>32</th>\n",
       "      <td>0.010580</td>\n",
       "      <td>0.005401</td>\n",
       "      <td>0.005179</td>\n",
       "      <td>1</td>\n",
       "      <td>job_management</td>\n",
       "    </tr>\n",
       "    <tr>\n",
       "      <th>34</th>\n",
       "      <td>0.033304</td>\n",
       "      <td>0.021357</td>\n",
       "      <td>0.011948</td>\n",
       "      <td>1</td>\n",
       "      <td>pdays</td>\n",
       "    </tr>\n",
       "    <tr>\n",
       "      <th>36</th>\n",
       "      <td>0.043670</td>\n",
       "      <td>0.029966</td>\n",
       "      <td>0.013704</td>\n",
       "      <td>1</td>\n",
       "      <td>contact_cellular</td>\n",
       "    </tr>\n",
       "  </tbody>\n",
       "</table>\n",
       "</div>"
      ],
      "text/plain": [
       "    unlagged    lagged  difference  choose               var\n",
       "0   0.023168  0.000000    0.023168       1   job_blue-collar\n",
       "2   0.029966  0.012983    0.016984       1          previous\n",
       "4   0.048511  0.003177    0.045334       1   contact_unknown\n",
       "6   0.029966  0.032944   -0.002978       0          previous\n",
       "8   0.033304  0.010270    0.023034       1             pdays\n",
       "10  0.044730  0.010270    0.034460       1       housing_yes\n",
       "12  0.048511  0.002744    0.045767       1   contact_unknown\n",
       "14  0.029966  0.005401    0.024565       1          previous\n",
       "16  0.023168  0.053690   -0.030523       0   job_blue-collar\n",
       "18  0.008085  0.021357   -0.013272       0               age\n",
       "20  0.033304  0.025470    0.007835       1             pdays\n",
       "22  0.044730  0.053690   -0.008960       0       housing_yes\n",
       "24  0.010580  0.032944   -0.022364       0    job_management\n",
       "26  0.008085  0.011695   -0.003610       0               age\n",
       "28  0.033304  0.020417    0.012887       1             pdays\n",
       "30  0.043670  0.003177    0.040493       1  contact_cellular\n",
       "32  0.010580  0.005401    0.005179       1    job_management\n",
       "34  0.033304  0.021357    0.011948       1             pdays\n",
       "36  0.043670  0.029966    0.013704       1  contact_cellular"
      ]
     },
     "execution_count": 37,
     "metadata": {},
     "output_type": "execute_result"
    }
   ],
   "source": [
    "variable_rel_imp"
   ]
  },
  {
   "cell_type": "code",
   "execution_count": 38,
   "metadata": {
    "collapsed": false
   },
   "outputs": [],
   "source": [
    "drop_cols = variable_rel_imp[variable_rel_imp[\"choose\"]==0][\"var\"].as_matrix()"
   ]
  },
  {
   "cell_type": "code",
   "execution_count": 39,
   "metadata": {
    "collapsed": false
   },
   "outputs": [],
   "source": [
    "data_dummies2 = data_dummies.drop(drop_cols,axis=1)"
   ]
  },
  {
   "cell_type": "code",
   "execution_count": 40,
   "metadata": {
    "collapsed": false
   },
   "outputs": [
    {
     "data": {
      "text/plain": [
       "Index([u'balance', u'day', u'campaign', u'pdays', u'job_admin.',\n",
       "       u'job_entrepreneur', u'job_housemaid', u'job_retired',\n",
       "       u'job_self-employed', u'job_services', u'job_student',\n",
       "       u'job_technician', u'job_unemployed', u'job_unknown',\n",
       "       u'marital_divorced', u'marital_married', u'marital_single',\n",
       "       u'education_primary', u'education_secondary', u'education_tertiary',\n",
       "       u'education_unknown', u'default_no', u'default_yes', u'loan_no',\n",
       "       u'loan_yes', u'contact_cellular', u'contact_telephone',\n",
       "       u'contact_unknown', u'month_apr', u'month_aug', u'month_dec',\n",
       "       u'month_feb', u'month_jan', u'month_jul', u'month_jun', u'month_mar',\n",
       "       u'month_may', u'month_nov', u'month_oct', u'month_sep',\n",
       "       u'poutcome_failure', u'poutcome_other', u'poutcome_success',\n",
       "       u'poutcome_unknown', u'y_yes'],\n",
       "      dtype='object')"
      ]
     },
     "execution_count": 40,
     "metadata": {},
     "output_type": "execute_result"
    }
   ],
   "source": [
    "data_dummies2.columns"
   ]
  },
  {
   "cell_type": "code",
   "execution_count": 42,
   "metadata": {
    "collapsed": false
   },
   "outputs": [
    {
     "data": {
      "text/plain": [
       "LogisticRegression(C=1.0, class_weight=None, dual=False, fit_intercept=True,\n",
       "          intercept_scaling=1, max_iter=100, multi_class='ovr', n_jobs=1,\n",
       "          penalty='l2', random_state=None, solver='liblinear', tol=0.0001,\n",
       "          verbose=0, warm_start=False)"
      ]
     },
     "execution_count": 42,
     "metadata": {},
     "output_type": "execute_result"
    }
   ],
   "source": [
    "from sklearn.linear_model import LogisticRegression\n",
    "reg = LogisticRegression()\n",
    "X = data_dummies2.drop(\"y_yes\",axis=1).as_matrix()\n",
    "X = preprocessing.scale(X)\n",
    "Y = data_dummies2[[\"y_yes\"]].as_matrix()\n",
    "reg.fit(X,Y)"
   ]
  },
  {
   "cell_type": "code",
   "execution_count": 43,
   "metadata": {
    "collapsed": false
   },
   "outputs": [],
   "source": [
    "j = []\n",
    "for i in reg.coef_[0]:\n",
    "    j.append(i)"
   ]
  },
  {
   "cell_type": "code",
   "execution_count": 44,
   "metadata": {
    "collapsed": false
   },
   "outputs": [],
   "source": [
    "columns_beta = pd.DataFrame()\n",
    "columns_beta[\"Cols\"] = data_dummies2.columns[:-1]\n",
    "columns_beta[\"Betas\"] = j"
   ]
  },
  {
   "cell_type": "code",
   "execution_count": 45,
   "metadata": {
    "collapsed": true
   },
   "outputs": [],
   "source": [
    "columns_beta[\"Abs_Beta\"] = columns_beta.apply(lambda row: np.abs(row[\"Betas\"]),axis=1)"
   ]
  },
  {
   "cell_type": "code",
   "execution_count": 46,
   "metadata": {
    "collapsed": false
   },
   "outputs": [
    {
     "data": {
      "text/html": [
       "<div>\n",
       "<table border=\"1\" class=\"dataframe\">\n",
       "  <thead>\n",
       "    <tr style=\"text-align: right;\">\n",
       "      <th></th>\n",
       "      <th>Cols</th>\n",
       "      <th>Betas</th>\n",
       "      <th>Abs_Beta</th>\n",
       "    </tr>\n",
       "  </thead>\n",
       "  <tbody>\n",
       "    <tr>\n",
       "      <th>0</th>\n",
       "      <td>balance</td>\n",
       "      <td>0.060408</td>\n",
       "      <td>0.060408</td>\n",
       "    </tr>\n",
       "    <tr>\n",
       "      <th>1</th>\n",
       "      <td>day</td>\n",
       "      <td>0.047406</td>\n",
       "      <td>0.047406</td>\n",
       "    </tr>\n",
       "    <tr>\n",
       "      <th>2</th>\n",
       "      <td>campaign</td>\n",
       "      <td>-0.275431</td>\n",
       "      <td>0.275431</td>\n",
       "    </tr>\n",
       "    <tr>\n",
       "      <th>3</th>\n",
       "      <td>pdays</td>\n",
       "      <td>-0.035716</td>\n",
       "      <td>0.035716</td>\n",
       "    </tr>\n",
       "    <tr>\n",
       "      <th>4</th>\n",
       "      <td>job_admin.</td>\n",
       "      <td>0.029238</td>\n",
       "      <td>0.029238</td>\n",
       "    </tr>\n",
       "    <tr>\n",
       "      <th>5</th>\n",
       "      <td>job_entrepreneur</td>\n",
       "      <td>-0.017344</td>\n",
       "      <td>0.017344</td>\n",
       "    </tr>\n",
       "    <tr>\n",
       "      <th>6</th>\n",
       "      <td>job_housemaid</td>\n",
       "      <td>-0.019534</td>\n",
       "      <td>0.019534</td>\n",
       "    </tr>\n",
       "    <tr>\n",
       "      <th>7</th>\n",
       "      <td>job_retired</td>\n",
       "      <td>0.144133</td>\n",
       "      <td>0.144133</td>\n",
       "    </tr>\n",
       "    <tr>\n",
       "      <th>8</th>\n",
       "      <td>job_self-employed</td>\n",
       "      <td>0.003805</td>\n",
       "      <td>0.003805</td>\n",
       "    </tr>\n",
       "    <tr>\n",
       "      <th>9</th>\n",
       "      <td>job_services</td>\n",
       "      <td>0.001498</td>\n",
       "      <td>0.001498</td>\n",
       "    </tr>\n",
       "    <tr>\n",
       "      <th>10</th>\n",
       "      <td>job_student</td>\n",
       "      <td>0.077422</td>\n",
       "      <td>0.077422</td>\n",
       "    </tr>\n",
       "    <tr>\n",
       "      <th>11</th>\n",
       "      <td>job_technician</td>\n",
       "      <td>0.009370</td>\n",
       "      <td>0.009370</td>\n",
       "    </tr>\n",
       "    <tr>\n",
       "      <th>12</th>\n",
       "      <td>job_unemployed</td>\n",
       "      <td>0.046608</td>\n",
       "      <td>0.046608</td>\n",
       "    </tr>\n",
       "    <tr>\n",
       "      <th>13</th>\n",
       "      <td>job_unknown</td>\n",
       "      <td>0.004973</td>\n",
       "      <td>0.004973</td>\n",
       "    </tr>\n",
       "    <tr>\n",
       "      <th>14</th>\n",
       "      <td>marital_divorced</td>\n",
       "      <td>0.017846</td>\n",
       "      <td>0.017846</td>\n",
       "    </tr>\n",
       "    <tr>\n",
       "      <th>15</th>\n",
       "      <td>marital_married</td>\n",
       "      <td>-0.074992</td>\n",
       "      <td>0.074992</td>\n",
       "    </tr>\n",
       "    <tr>\n",
       "      <th>16</th>\n",
       "      <td>marital_single</td>\n",
       "      <td>0.068852</td>\n",
       "      <td>0.068852</td>\n",
       "    </tr>\n",
       "    <tr>\n",
       "      <th>17</th>\n",
       "      <td>education_primary</td>\n",
       "      <td>-0.069536</td>\n",
       "      <td>0.069536</td>\n",
       "    </tr>\n",
       "    <tr>\n",
       "      <th>18</th>\n",
       "      <td>education_secondary</td>\n",
       "      <td>-0.024065</td>\n",
       "      <td>0.024065</td>\n",
       "    </tr>\n",
       "    <tr>\n",
       "      <th>20</th>\n",
       "      <td>education_unknown</td>\n",
       "      <td>0.011132</td>\n",
       "      <td>0.011132</td>\n",
       "    </tr>\n",
       "    <tr>\n",
       "      <th>21</th>\n",
       "      <td>default_no</td>\n",
       "      <td>0.006317</td>\n",
       "      <td>0.006317</td>\n",
       "    </tr>\n",
       "    <tr>\n",
       "      <th>22</th>\n",
       "      <td>default_yes</td>\n",
       "      <td>-0.006317</td>\n",
       "      <td>0.006317</td>\n",
       "    </tr>\n",
       "    <tr>\n",
       "      <th>24</th>\n",
       "      <td>loan_yes</td>\n",
       "      <td>-0.075566</td>\n",
       "      <td>0.075566</td>\n",
       "    </tr>\n",
       "    <tr>\n",
       "      <th>25</th>\n",
       "      <td>contact_cellular</td>\n",
       "      <td>0.290341</td>\n",
       "      <td>0.290341</td>\n",
       "    </tr>\n",
       "    <tr>\n",
       "      <th>26</th>\n",
       "      <td>contact_telephone</td>\n",
       "      <td>0.100443</td>\n",
       "      <td>0.100443</td>\n",
       "    </tr>\n",
       "    <tr>\n",
       "      <th>27</th>\n",
       "      <td>contact_unknown</td>\n",
       "      <td>-0.360674</td>\n",
       "      <td>0.360674</td>\n",
       "    </tr>\n",
       "    <tr>\n",
       "      <th>28</th>\n",
       "      <td>month_apr</td>\n",
       "      <td>0.082656</td>\n",
       "      <td>0.082656</td>\n",
       "    </tr>\n",
       "    <tr>\n",
       "      <th>29</th>\n",
       "      <td>month_aug</td>\n",
       "      <td>-0.085518</td>\n",
       "      <td>0.085518</td>\n",
       "    </tr>\n",
       "    <tr>\n",
       "      <th>30</th>\n",
       "      <td>month_dec</td>\n",
       "      <td>0.079603</td>\n",
       "      <td>0.079603</td>\n",
       "    </tr>\n",
       "    <tr>\n",
       "      <th>31</th>\n",
       "      <td>month_feb</td>\n",
       "      <td>0.027919</td>\n",
       "      <td>0.027919</td>\n",
       "    </tr>\n",
       "    <tr>\n",
       "      <th>32</th>\n",
       "      <td>month_jan</td>\n",
       "      <td>-0.111173</td>\n",
       "      <td>0.111173</td>\n",
       "    </tr>\n",
       "    <tr>\n",
       "      <th>33</th>\n",
       "      <td>month_jul</td>\n",
       "      <td>-0.095743</td>\n",
       "      <td>0.095743</td>\n",
       "    </tr>\n",
       "    <tr>\n",
       "      <th>34</th>\n",
       "      <td>month_jun</td>\n",
       "      <td>0.230747</td>\n",
       "      <td>0.230747</td>\n",
       "    </tr>\n",
       "    <tr>\n",
       "      <th>35</th>\n",
       "      <td>month_mar</td>\n",
       "      <td>0.167413</td>\n",
       "      <td>0.167413</td>\n",
       "    </tr>\n",
       "    <tr>\n",
       "      <th>36</th>\n",
       "      <td>month_may</td>\n",
       "      <td>-0.084740</td>\n",
       "      <td>0.084740</td>\n",
       "    </tr>\n",
       "    <tr>\n",
       "      <th>37</th>\n",
       "      <td>month_nov</td>\n",
       "      <td>-0.128018</td>\n",
       "      <td>0.128018</td>\n",
       "    </tr>\n",
       "    <tr>\n",
       "      <th>38</th>\n",
       "      <td>month_oct</td>\n",
       "      <td>0.149512</td>\n",
       "      <td>0.149512</td>\n",
       "    </tr>\n",
       "    <tr>\n",
       "      <th>39</th>\n",
       "      <td>month_sep</td>\n",
       "      <td>0.138148</td>\n",
       "      <td>0.138148</td>\n",
       "    </tr>\n",
       "    <tr>\n",
       "      <th>40</th>\n",
       "      <td>poutcome_failure</td>\n",
       "      <td>-0.090926</td>\n",
       "      <td>0.090926</td>\n",
       "    </tr>\n",
       "    <tr>\n",
       "      <th>41</th>\n",
       "      <td>poutcome_other</td>\n",
       "      <td>0.000569</td>\n",
       "      <td>0.000569</td>\n",
       "    </tr>\n",
       "    <tr>\n",
       "      <th>42</th>\n",
       "      <td>poutcome_success</td>\n",
       "      <td>0.362276</td>\n",
       "      <td>0.362276</td>\n",
       "    </tr>\n",
       "    <tr>\n",
       "      <th>43</th>\n",
       "      <td>poutcome_unknown</td>\n",
       "      <td>-0.095677</td>\n",
       "      <td>0.095677</td>\n",
       "    </tr>\n",
       "  </tbody>\n",
       "</table>\n",
       "</div>"
      ],
      "text/plain": [
       "                   Cols     Betas  Abs_Beta\n",
       "0               balance  0.060408  0.060408\n",
       "1                   day  0.047406  0.047406\n",
       "2              campaign -0.275431  0.275431\n",
       "3                 pdays -0.035716  0.035716\n",
       "4            job_admin.  0.029238  0.029238\n",
       "5      job_entrepreneur -0.017344  0.017344\n",
       "6         job_housemaid -0.019534  0.019534\n",
       "7           job_retired  0.144133  0.144133\n",
       "8     job_self-employed  0.003805  0.003805\n",
       "9          job_services  0.001498  0.001498\n",
       "10          job_student  0.077422  0.077422\n",
       "11       job_technician  0.009370  0.009370\n",
       "12       job_unemployed  0.046608  0.046608\n",
       "13          job_unknown  0.004973  0.004973\n",
       "14     marital_divorced  0.017846  0.017846\n",
       "15      marital_married -0.074992  0.074992\n",
       "16       marital_single  0.068852  0.068852\n",
       "17    education_primary -0.069536  0.069536\n",
       "18  education_secondary -0.024065  0.024065\n",
       "20    education_unknown  0.011132  0.011132\n",
       "21           default_no  0.006317  0.006317\n",
       "22          default_yes -0.006317  0.006317\n",
       "24             loan_yes -0.075566  0.075566\n",
       "25     contact_cellular  0.290341  0.290341\n",
       "26    contact_telephone  0.100443  0.100443\n",
       "27      contact_unknown -0.360674  0.360674\n",
       "28            month_apr  0.082656  0.082656\n",
       "29            month_aug -0.085518  0.085518\n",
       "30            month_dec  0.079603  0.079603\n",
       "31            month_feb  0.027919  0.027919\n",
       "32            month_jan -0.111173  0.111173\n",
       "33            month_jul -0.095743  0.095743\n",
       "34            month_jun  0.230747  0.230747\n",
       "35            month_mar  0.167413  0.167413\n",
       "36            month_may -0.084740  0.084740\n",
       "37            month_nov -0.128018  0.128018\n",
       "38            month_oct  0.149512  0.149512\n",
       "39            month_sep  0.138148  0.138148\n",
       "40     poutcome_failure -0.090926  0.090926\n",
       "41       poutcome_other  0.000569  0.000569\n",
       "42     poutcome_success  0.362276  0.362276\n",
       "43     poutcome_unknown -0.095677  0.095677"
      ]
     },
     "execution_count": 46,
     "metadata": {},
     "output_type": "execute_result"
    }
   ],
   "source": [
    "columns_beta.drop([19,23])"
   ]
  },
  {
   "cell_type": "code",
   "execution_count": 47,
   "metadata": {
    "collapsed": false
   },
   "outputs": [
    {
     "data": {
      "text/plain": [
       "<matplotlib.text.Text at 0xe1a00f0>"
      ]
     },
     "execution_count": 47,
     "metadata": {},
     "output_type": "execute_result"
    },
    {
     "data": {
      "image/png": "[encoded data removed]",
      "text/plain": [
       "<matplotlib.figure.Figure at 0xe0f8e10>"
      ]
     },
     "metadata": {},
     "output_type": "display_data"
    }
   ],
   "source": [
    "columns_beta.drop([19,23]).sort(\"Abs_Beta\",ascending=False).plot(x=\"Cols\",y=\"Abs_Beta\",figsize=(15,7),kind=\"bar\")\n",
    "plt.xlabel(\"Variable\")\n",
    "plt.ylabel(\"Absolute Beta\")"
   ]
  },
  {
   "cell_type": "code",
   "execution_count": 48,
   "metadata": {
    "collapsed": false
   },
   "outputs": [
    {
     "data": {
      "text/plain": [
       "<matplotlib.text.Text at 0x137e5b70>"
      ]
     },
     "execution_count": 48,
     "metadata": {},
     "output_type": "execute_result"
    },
    {
     "data": {
      "image/png": "[encoded data removed]",
      "text/plain": [
       "<matplotlib.figure.Figure at 0xe24bb38>"
      ]
     },
     "metadata": {},
     "output_type": "display_data"
    }
   ],
   "source": [
    "columns_beta.drop([19,23]).sort(\"Betas\",ascending=False).plot(x=\"Cols\",y=\"Betas\",figsize=(15,7),kind=\"bar\")\n",
    "plt.xlabel(\"Variable\")\n",
    "plt.ylabel(\"Beta\")"
   ]
  },
  {
   "cell_type": "code",
   "execution_count": 49,
   "metadata": {
    "collapsed": false
   },
   "outputs": [],
   "source": [
    "from sklearn.cross_validation import train_test_split"
   ]
  },
  {
   "cell_type": "code",
   "execution_count": 50,
   "metadata": {
    "collapsed": true
   },
   "outputs": [],
   "source": [
    "X_train, X_test, y_train, y_test = train_test_split(X, Y, test_size=0.33, random_state=42)"
   ]
  },
  {
   "cell_type": "code",
   "execution_count": 54,
   "metadata": {
    "collapsed": false
   },
   "outputs": [],
   "source": [
    "from sklearn.metrics import confusion_matrix"
   ]
  },
  {
   "cell_type": "code",
   "execution_count": 55,
   "metadata": {
    "collapsed": false
   },
   "outputs": [
    {
     "data": {
      "image/png": "[encoded data removed]",
      "text/plain": [
       "<matplotlib.figure.Figure at 0xe7e5da0>"
      ]
     },
     "metadata": {},
     "output_type": "display_data"
    },
    {
     "name": "stdout",
     "output_type": "stream",
     "text": [
      "[[12995   180]\n",
      " [ 1430   315]]\n"
     ]
    }
   ],
   "source": [
    "from sklearn.linear_model import LogisticRegression\n",
    "from sklearn.metrics import confusion_matrix\n",
    "\n",
    "from sklearn.linear_model import LogisticRegression\n",
    "reg = LogisticRegression()\n",
    "X = data_dummies2.drop(\"y_yes\",axis=1).as_matrix()\n",
    "X = preprocessing.scale(X)\n",
    "Y = data_dummies2[[\"y_yes\"]].as_matrix()\n",
    "reg.fit(X,Y)\n",
    "\n",
    "reg = LogisticRegression(class_weight={0:1,1:1})\n",
    "reg.fit(X_train,y_train)\n",
    "predictions = reg.predict(X_test)\n",
    "\n",
    "cm = confusion_matrix(y_test,predictions)\n",
    "labels = ['Not Respond', 'Respond']\n",
    "fig = plt.figure()\n",
    "ax = fig.add_subplot(111)\n",
    "cax = ax.matshow(cm)\n",
    "plt.title('Confusion matrix of the classifier')\n",
    "fig.colorbar(cax)\n",
    "ax.set_xticklabels([''] + labels)\n",
    "ax.set_yticklabels([''] + labels)\n",
    "plt.xlabel('Predicted')\n",
    "plt.ylabel('True')\n",
    "plt.show()\n",
    "print cm"
   ]
  },
  {
   "cell_type": "code",
   "execution_count": 56,
   "metadata": {
    "collapsed": false
   },
   "outputs": [],
   "source": [
    "cm = confusion_matrix(y_test,predictions)"
   ]
  },
  {
   "cell_type": "code",
   "execution_count": 57,
   "metadata": {
    "collapsed": false
   },
   "outputs": [],
   "source": [
    "test_probs = []\n",
    "for i in reg.predict_proba(X):\n",
    "    test_probs.append(1.0-i[0])"
   ]
  },
  {
   "cell_type": "code",
   "execution_count": 58,
   "metadata": {
    "collapsed": false
   },
   "outputs": [
    {
     "name": "stdout",
     "output_type": "stream",
     "text": [
      "balance\n",
      "day\n",
      "campaign\n",
      "pdays\n",
      "job_admin.\n",
      "job_entrepreneur\n",
      "job_housemaid\n",
      "job_retired\n",
      "job_self-employed\n",
      "job_services\n",
      "job_student\n",
      "job_technician\n",
      "job_unemployed\n",
      "job_unknown\n",
      "marital_divorced\n",
      "marital_married\n",
      "marital_single\n",
      "education_primary\n",
      "education_secondary\n",
      "education_tertiary\n",
      "education_unknown\n",
      "default_no\n",
      "default_yes\n",
      "loan_no\n",
      "loan_yes\n",
      "contact_cellular\n",
      "contact_telephone\n",
      "contact_unknown\n",
      "month_apr\n",
      "month_aug\n",
      "month_dec\n",
      "month_feb\n",
      "month_jan\n",
      "month_jul\n",
      "month_jun\n",
      "month_mar\n",
      "month_may\n",
      "month_nov\n",
      "month_oct\n",
      "month_sep\n",
      "poutcome_failure\n",
      "poutcome_other\n",
      "poutcome_success\n",
      "poutcome_unknown\n",
      "y_yes\n"
     ]
    }
   ],
   "source": [
    "for i in data_dummies2.columns:\n",
    "    print i"
   ]
  },
  {
   "cell_type": "code",
   "execution_count": 59,
   "metadata": {
    "collapsed": false
   },
   "outputs": [],
   "source": [
    "data_dummies2[\"Probability\"]=test_probs"
   ]
  },
  {
   "cell_type": "code",
   "execution_count": 60,
   "metadata": {
    "collapsed": true
   },
   "outputs": [],
   "source": [
    "data[\"Probability\"]=test_probs"
   ]
  },
  {
   "cell_type": "code",
   "execution_count": 61,
   "metadata": {
    "collapsed": true
   },
   "outputs": [],
   "source": [
    "data_sort = data.sort(\"Probability\",ascending=False)"
   ]
  },
  {
   "cell_type": "code",
   "execution_count": 62,
   "metadata": {
    "collapsed": false
   },
   "outputs": [],
   "source": [
    "arr = [(j+1)*0.1 for j in range(9)]"
   ]
  },
  {
   "cell_type": "code",
   "execution_count": 63,
   "metadata": {
    "collapsed": false
   },
   "outputs": [
    {
     "data": {
      "text/plain": [
       "[0.1,\n",
       " 0.2,\n",
       " 0.30000000000000004,\n",
       " 0.4,\n",
       " 0.5,\n",
       " 0.6000000000000001,\n",
       " 0.7000000000000001,\n",
       " 0.8,\n",
       " 0.9]"
      ]
     },
     "execution_count": 63,
     "metadata": {},
     "output_type": "execute_result"
    }
   ],
   "source": [
    "arr"
   ]
  },
  {
   "cell_type": "code",
   "execution_count": 64,
   "metadata": {
    "collapsed": false
   },
   "outputs": [
    {
     "name": "stdout",
     "output_type": "stream",
     "text": [
      "0.217515942199\n",
      "0.447389720761\n",
      "0.537176547658\n",
      "0.583629893238\n",
      "0.645051194539\n",
      "0.691885964912\n",
      "0.735244519393\n",
      "0.763231197772\n",
      "0.764705882353\n"
     ]
    }
   ],
   "source": [
    "\n",
    "for i in arr:\n",
    "    respondants =  sum((data_sort[data_sort[\"Probability\"]>i][\"y\"]==\"yes\")*1)\n",
    "    perc_respondants = float(respondants)/float(len(data_sort[data_sort[\"Probability\"]>i]))\n",
    "    print perc_respondants"
   ]
  },
  {
   "cell_type": "code",
   "execution_count": 67,
   "metadata": {
    "collapsed": false
   },
   "outputs": [
    {
     "name": "stdout",
     "output_type": "stream",
     "text": [
      "0.116984804583\n"
     ]
    }
   ],
   "source": [
    "respondants =  sum((data_sort[data_sort[\"Probability\"]>0][\"y\"]==\"yes\")*1)\n",
    "perc_respondants = float(respondants)/float(len(data_sort[data_sort[\"Probability\"]>0]))\n",
    "print perc_respondants"
   ]
  },
  {
   "cell_type": "code",
   "execution_count": 68,
   "metadata": {
    "collapsed": false
   },
   "outputs": [],
   "source": [
    "arr = [int(round((j)*4521.1)) for j in range(10)]"
   ]
  },
  {
   "cell_type": "code",
   "execution_count": 69,
   "metadata": {
    "collapsed": false
   },
   "outputs": [],
   "source": [
    "correct = []\n",
    "for i in arr:\n",
    "    num_correct = sum((data_sort[i:(i+4521)][\"y\"]==\"yes\")*1)\n",
    "    correct.append(num_correct)"
   ]
  },
  {
   "cell_type": "code",
   "execution_count": 72,
   "metadata": {
    "collapsed": false
   },
   "outputs": [],
   "source": [
    "correct2 = [correct[0]]\n",
    "for i in range(len(correct)-1):\n",
    "    correct2.append(correct2[i] + correct[i+1])\n",
    "    "
   ]
  },
  {
   "cell_type": "code",
   "execution_count": 73,
   "metadata": {
    "collapsed": false
   },
   "outputs": [],
   "source": [
    "arr.append(40690+4521)"
   ]
  },
  {
   "cell_type": "code",
   "execution_count": 74,
   "metadata": {
    "collapsed": false
   },
   "outputs": [],
   "source": [
    "success_fracs = []\n",
    "for i in range(len(arr[1:])):\n",
    "    success_fracs.append(float(correct2[i])/float(arr[1:][i]))"
   ]
  },
  {
   "cell_type": "code",
   "execution_count": 75,
   "metadata": {
    "collapsed": false
   },
   "outputs": [],
   "source": [
    "correct3 = [0]\n",
    "straight_line = [0]\n",
    "k = 0\n",
    "for i in correct2:\n",
    "    correct3.append(i)\n",
    "    k = k + 4521*0.11698480458295547\n",
    "    straight_line.append(k)"
   ]
  },
  {
   "cell_type": "code",
   "execution_count": 77,
   "metadata": {
    "collapsed": false
   },
   "outputs": [
    {
     "name": "stdout",
     "output_type": "stream",
     "text": [
      "[0, 10, 20, 30, 40, 50, 60, 70, 80, 90, 100]\n"
     ]
    }
   ],
   "source": [
    "t = []\n",
    "for i in range(11):\n",
    "    t.append(i*10)\n",
    "print t"
   ]
  },
  {
   "cell_type": "code",
   "execution_count": 78,
   "metadata": {
    "collapsed": false
   },
   "outputs": [],
   "source": [
    "Lift_df = pd.DataFrame(correct3)\n",
    "Lift_df.columns = [\"Logistic Choice\"]\n",
    "Lift_df[\"Base Case\"] = straight_line\n",
    "Lift_df.index = t"
   ]
  },
  {
   "cell_type": "code",
   "execution_count": 79,
   "metadata": {
    "collapsed": false
   },
   "outputs": [
    {
     "data": {
      "text/html": [
       "<div>\n",
       "<table border=\"1\" class=\"dataframe\">\n",
       "  <thead>\n",
       "    <tr style=\"text-align: right;\">\n",
       "      <th></th>\n",
       "      <th>Logistic Choice</th>\n",
       "      <th>Base Case</th>\n",
       "    </tr>\n",
       "  </thead>\n",
       "  <tbody>\n",
       "    <tr>\n",
       "      <th>0</th>\n",
       "      <td>0</td>\n",
       "      <td>0.000000</td>\n",
       "    </tr>\n",
       "    <tr>\n",
       "      <th>10</th>\n",
       "      <td>2089</td>\n",
       "      <td>528.888302</td>\n",
       "    </tr>\n",
       "    <tr>\n",
       "      <th>20</th>\n",
       "      <td>2868</td>\n",
       "      <td>1057.776603</td>\n",
       "    </tr>\n",
       "    <tr>\n",
       "      <th>30</th>\n",
       "      <td>3408</td>\n",
       "      <td>1586.664905</td>\n",
       "    </tr>\n",
       "    <tr>\n",
       "      <th>40</th>\n",
       "      <td>3804</td>\n",
       "      <td>2115.553206</td>\n",
       "    </tr>\n",
       "    <tr>\n",
       "      <th>50</th>\n",
       "      <td>4192</td>\n",
       "      <td>2644.441508</td>\n",
       "    </tr>\n",
       "    <tr>\n",
       "      <th>60</th>\n",
       "      <td>4494</td>\n",
       "      <td>3173.329809</td>\n",
       "    </tr>\n",
       "    <tr>\n",
       "      <th>70</th>\n",
       "      <td>4772</td>\n",
       "      <td>3702.218111</td>\n",
       "    </tr>\n",
       "    <tr>\n",
       "      <th>80</th>\n",
       "      <td>4989</td>\n",
       "      <td>4231.106412</td>\n",
       "    </tr>\n",
       "    <tr>\n",
       "      <th>90</th>\n",
       "      <td>5175</td>\n",
       "      <td>4759.994714</td>\n",
       "    </tr>\n",
       "    <tr>\n",
       "      <th>100</th>\n",
       "      <td>5289</td>\n",
       "      <td>5288.883015</td>\n",
       "    </tr>\n",
       "  </tbody>\n",
       "</table>\n",
       "</div>"
      ],
      "text/plain": [
       "     Logistic Choice    Base Case\n",
       "0                  0     0.000000\n",
       "10              2089   528.888302\n",
       "20              2868  1057.776603\n",
       "30              3408  1586.664905\n",
       "40              3804  2115.553206\n",
       "50              4192  2644.441508\n",
       "60              4494  3173.329809\n",
       "70              4772  3702.218111\n",
       "80              4989  4231.106412\n",
       "90              5175  4759.994714\n",
       "100             5289  5288.883015"
      ]
     },
     "execution_count": 79,
     "metadata": {},
     "output_type": "execute_result"
    }
   ],
   "source": [
    "Lift_df"
   ]
  },
  {
   "cell_type": "code",
   "execution_count": 81,
   "metadata": {
    "collapsed": false
   },
   "outputs": [
    {
     "data": {
      "text/plain": [
       "<matplotlib.text.Text at 0x14421be0>"
      ]
     },
     "execution_count": 81,
     "metadata": {},
     "output_type": "execute_result"
    },
    {
     "data": {
      "image/png": "[encoded data removed]",
      "text/plain": [
       "<matplotlib.figure.Figure at 0x12d233c8>"
      ]
     },
     "metadata": {},
     "output_type": "display_data"
    }
   ],
   "source": [
    "import seaborn as sns\n",
    "Lift_df.plot(figsize=(15,10),xticks=t)\n",
    "plt.xlabel(\"Percent Contacted\")\n",
    "plt.ylabel(\"Number of Positive Respondents\")\n",
    "plt.title(\"Logistic Regression Lift Chart\")"
   ]
  },
  {
   "cell_type": "code",
   "execution_count": 82,
   "metadata": {
    "collapsed": false
   },
   "outputs": [
    {
     "data": {
      "image/png": "[encoded data removed]",
      "text/plain": [
       "<matplotlib.figure.Figure at 0x1451e9e8>"
      ]
     },
     "metadata": {},
     "output_type": "display_data"
    }
   ],
   "source": [
    "lift_plot = pd.DataFrame(correct3).plot()"
   ]
  },
  {
   "cell_type": "code",
   "execution_count": 83,
   "metadata": {
    "collapsed": false
   },
   "outputs": [],
   "source": [
    "ed_prim = data_dummies[data_dummies['education_primary']==1].drop(['education_primary','education_secondary','education_tertiary'],axis=1)\n",
    "ed_sec = data_dummies[data_dummies['education_secondary']==1].drop(['education_primary','education_secondary','education_tertiary'],axis=1)\n",
    "ed_tert = data_dummies[data_dummies['education_tertiary']==1].drop(['education_primary','education_secondary','education_tertiary'],axis=1)"
   ]
  },
  {
   "cell_type": "code",
   "execution_count": 84,
   "metadata": {
    "collapsed": false
   },
   "outputs": [
    {
     "data": {
      "image/png": "[encoded data removed]",
      "text/plain": [
       "<matplotlib.figure.Figure at 0x138e98d0>"
      ]
     },
     "metadata": {},
     "output_type": "display_data"
    },
    {
     "name": "stdout",
     "output_type": "stream",
     "text": [
      "[[  34 2022]\n",
      " [   0  205]]\n"
     ]
    },
    {
     "data": {
      "image/png": "[encoded data removed]",
      "text/plain": [
       "<matplotlib.figure.Figure at 0x13ce9208>"
      ]
     },
     "metadata": {},
     "output_type": "display_data"
    },
    {
     "name": "stdout",
     "output_type": "stream",
     "text": [
      "[[  49 6789]\n",
      " [   1  818]]\n"
     ]
    },
    {
     "data": {
      "image/png": "[encoded data removed]",
      "text/plain": [
       "<matplotlib.figure.Figure at 0xe298da0>"
      ]
     },
     "metadata": {},
     "output_type": "display_data"
    },
    {
     "name": "stdout",
     "output_type": "stream",
     "text": [
      "[[  68 3652]\n",
      " [   1  669]]\n"
     ]
    }
   ],
   "source": [
    "from sklearn.linear_model import LogisticRegression\n",
    "from sklearn.metrics import confusion_matrix\n",
    "\n",
    "from sklearn.linear_model import LogisticRegression\n",
    "\n",
    "X = ed_prim.drop(\"y_yes\",axis=1).as_matrix()\n",
    "X = preprocessing.scale(X)\n",
    "Y = ed_prim[[\"y_yes\"]].as_matrix()\n",
    "\n",
    "X_train, X_test, y_train, y_test = train_test_split(X, Y, test_size=0.33, random_state=42)\n",
    "\n",
    "reg = LogisticRegression(class_weight={0:1,1:55})\n",
    "reg.fit(X_train,y_train)\n",
    "predictions = reg.predict(X_test)\n",
    "\n",
    "cm = confusion_matrix(y_test,predictions)\n",
    "labels = ['Not Respond', 'Respond']\n",
    "fig = plt.figure()\n",
    "ax = fig.add_subplot(111)\n",
    "cax = ax.matshow(cm)\n",
    "plt.title('Confusion matrix of the classifier')\n",
    "fig.colorbar(cax)\n",
    "ax.set_xticklabels([''] + labels)\n",
    "ax.set_yticklabels([''] + labels)\n",
    "plt.xlabel('Predicted')\n",
    "plt.ylabel('True')\n",
    "plt.title(\"Primary\")\n",
    "plt.show()\n",
    "print cm\n",
    "\n",
    "X = ed_sec.drop(\"y_yes\",axis=1).as_matrix()\n",
    "X = preprocessing.scale(X)\n",
    "Y = ed_sec[[\"y_yes\"]].as_matrix()\n",
    "\n",
    "X_train, X_test, y_train, y_test = train_test_split(X, Y, test_size=0.33, random_state=42)\n",
    "\n",
    "reg = LogisticRegression(class_weight={0:1,1:62})\n",
    "reg.fit(X_train,y_train)\n",
    "predictions = reg.predict(X_test)\n",
    "\n",
    "cm = confusion_matrix(y_test,predictions)\n",
    "labels = ['Not Respond', 'Respond']\n",
    "fig = plt.figure()\n",
    "ax = fig.add_subplot(111)\n",
    "cax = ax.matshow(cm)\n",
    "plt.title('Confusion matrix of the classifier')\n",
    "fig.colorbar(cax)\n",
    "ax.set_xticklabels([''] + labels)\n",
    "ax.set_yticklabels([''] + labels)\n",
    "plt.xlabel('Predicted')\n",
    "plt.ylabel('True')\n",
    "plt.title(\"Secondary\")\n",
    "plt.show()\n",
    "print cm\n",
    "\n",
    "X = ed_tert.drop(\"y_yes\",axis=1).as_matrix()\n",
    "X = preprocessing.scale(X)\n",
    "Y = ed_tert[[\"y_yes\"]].as_matrix()\n",
    "\n",
    "X_train, X_test, y_train, y_test = train_test_split(X, Y, test_size=0.33, random_state=42)\n",
    "\n",
    "reg = LogisticRegression(class_weight={0:1,1:62})\n",
    "reg.fit(X_train,y_train)\n",
    "predictions = reg.predict(X_test)\n",
    "\n",
    "cm = confusion_matrix(y_test,predictions)\n",
    "labels = ['Not Respond', 'Respond']\n",
    "fig = plt.figure()\n",
    "ax = fig.add_subplot(111)\n",
    "cax = ax.matshow(cm)\n",
    "plt.title('Confusion matrix of the classifier')\n",
    "fig.colorbar(cax)\n",
    "ax.set_xticklabels([''] + labels)\n",
    "ax.set_yticklabels([''] + labels)\n",
    "plt.xlabel('Predicted')\n",
    "plt.ylabel('True')\n",
    "plt.title(\"Tertiary\")\n",
    "plt.show()\n",
    "print cm"
   ]
  },
  {
   "cell_type": "code",
   "execution_count": 85,
   "metadata": {
    "collapsed": false
   },
   "outputs": [
    {
     "data": {
      "text/plain": [
       "0.18853868194842408"
      ]
     },
     "execution_count": 85,
     "metadata": {},
     "output_type": "execute_result"
    }
   ],
   "source": [
    "329.0/(1416.0+329.0)"
   ]
  },
  {
   "cell_type": "code",
   "execution_count": null,
   "metadata": {
    "collapsed": true
   },
   "outputs": [],
   "source": []
  },
  {
   "cell_type": "code",
   "execution_count": 86,
   "metadata": {
    "collapsed": false
   },
   "outputs": [],
   "source": [
    "drop_cols2 = []\n",
    "for i in drop_cols:\n",
    "    drop_cols2.append(i)"
   ]
  },
  {
   "cell_type": "code",
   "execution_count": 87,
   "metadata": {
    "collapsed": false
   },
   "outputs": [],
   "source": [
    "for i in [\"previous\", \"pdays\", \"age\", \"job_management\"]:\n",
    "    drop_cols2.append(i)"
   ]
  },
  {
   "cell_type": "code",
   "execution_count": 88,
   "metadata": {
    "collapsed": false
   },
   "outputs": [],
   "source": [
    "drops = pd.DataFrame()\n",
    "drops[\"To Drop\"]=drop_cols2"
   ]
  },
  {
   "cell_type": "code",
   "execution_count": 89,
   "metadata": {
    "collapsed": false
   },
   "outputs": [],
   "source": [
    "drop_cols = drops[\"To Drop\"].as_matrix()"
   ]
  },
  {
   "cell_type": "code",
   "execution_count": 90,
   "metadata": {
    "collapsed": false
   },
   "outputs": [],
   "source": [
    "data2 = data_dummies.drop(drop_cols,axis=1)"
   ]
  },
  {
   "cell_type": "code",
   "execution_count": 92,
   "metadata": {
    "collapsed": false
   },
   "outputs": [],
   "source": [
    "\n",
    "Y = data2[\"y_yes\"].as_matrix()\n",
    "X = data2.drop(\"y_yes\",axis=1).as_matrix()\n",
    "X = preprocessing.scale(X)\n",
    "Y = preprocessing.scale(Y)\n"
   ]
  },
  {
   "cell_type": "code",
   "execution_count": 93,
   "metadata": {
    "collapsed": false
   },
   "outputs": [
    {
     "data": {
      "text/plain": [
       "GradientBoostingClassifier(init=None, learning_rate=0.1, loss='deviance',\n",
       "              max_depth=3, max_features=None, max_leaf_nodes=None,\n",
       "              min_samples_leaf=1, min_samples_split=2,\n",
       "              min_weight_fraction_leaf=0.0, n_estimators=100,\n",
       "              presort='auto', random_state=None, subsample=1.0, verbose=0,\n",
       "              warm_start=False)"
      ]
     },
     "execution_count": 93,
     "metadata": {},
     "output_type": "execute_result"
    }
   ],
   "source": [
    "from sklearn.ensemble import GradientBoostingClassifier as GBC\n",
    "grad = GBC()\n",
    "grad.fit(X_train,y_train)"
   ]
  },
  {
   "cell_type": "code",
   "execution_count": null,
   "metadata": {
    "collapsed": false
   },
   "outputs": [],
   "source": [
    "y_test2 = []\n",
    "for i in y_test:\n",
    "    y_test2.append(i[0])"
   ]
  },
  {
   "cell_type": "code",
   "execution_count": null,
   "metadata": {
    "collapsed": false
   },
   "outputs": [],
   "source": [
    "grad_df = pd.DataFrame()\n",
    "grad_df[\"Pred\"]= pred.tolist()\n",
    "grad_df[\"Actual\"] = data_dummies[\"y_yes\"]"
   ]
  },
  {
   "cell_type": "code",
   "execution_count": null,
   "metadata": {
    "collapsed": false
   },
   "outputs": [],
   "source": [
    "total = float(len(grad_df[grad_df[\"Actual\"]==1]))\n",
    "correct = float(len(grad_df[grad_df[\"Actual\"]==1][grad_df[\"Pred\"]==1]))\n",
    "print correct/total"
   ]
  },
  {
   "cell_type": "markdown",
   "metadata": {},
   "source": [
    "$$ number \\space of \\space columns \\space in  \\space dummy \\space spreadsheet = 50 $$\n",
    "$$ number \\space of \\space unique, \\space unordered \\space pairs = \\frac{50!}{48!2!} = 1225$$"
   ]
  }
 ],
 "metadata": {
  "kernelspec": {
   "display_name": "Python 2",
   "language": "python",
   "name": "python2"
  },
  "language_info": {
   "codemirror_mode": {
    "name": "ipython",
    "version": 2
   },
   "file_extension": ".py",
   "mimetype": "text/x-python",
   "name": "python",
   "nbconvert_exporter": "python",
   "pygments_lexer": "ipython2",
   "version": "2.7.12"
  }
 },
 "nbformat": 4,
 "nbformat_minor": 0
}
